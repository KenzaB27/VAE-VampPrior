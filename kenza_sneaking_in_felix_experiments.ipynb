{
  "nbformat": 4,
  "nbformat_minor": 0,
  "metadata": {
    "kernelspec": {
      "name": "python3",
      "display_name": "Python 3.6.12 64-bit ('tf-keras-gpu': conda)",
      "metadata": {
        "interpreter": {
          "hash": "2762fd0ccae7a6827a0de0868563b3d499c815e35640ddddc3d2dc7e9a34dcb9"
        }
      }
    },
    "language_info": {
      "codemirror_mode": {
        "name": "ipython",
        "version": 3
      },
      "file_extension": ".py",
      "mimetype": "text/x-python",
      "name": "python",
      "nbconvert_exporter": "python",
      "pygments_lexer": "ipython3",
      "version": "3.6.12-final"
    },
    "colab": {
      "name": "notebook_autoencoder.ipynb",
      "provenance": [],
      "toc_visible": true
    },
    "accelerator": "GPU"
  },
  "cells": [
    {
      "cell_type": "code",
      "metadata": {
        "id": "2QywJts6x6D3"
      },
      "source": [
        "import numpy as np \n",
        "import tensorflow as tf \n",
        "import tensorflow_probability as tfp\n",
        "from tensorflow import keras"
      ],
      "execution_count": 1,
      "outputs": []
    },
    {
      "cell_type": "code",
      "metadata": {
        "id": "Y1NptrGZxg6e"
      },
      "source": [
        "import matplotlib.pyplot as plt\n",
        "import seaborn as sns"
      ],
      "execution_count": 2,
      "outputs": []
    },
    {
      "cell_type": "code",
      "metadata": {
        "id": "YrbvNuEB2k7Y",
        "outputId": "a6095493-ad71-421a-951d-47e4bdebd282",
        "colab": {
          "base_uri": "https://localhost:8080/"
        }
      },
      "source": [
        "device_name = tf.test.gpu_device_name()\r\n",
        "if device_name != '/device:GPU:0':\r\n",
        "  raise SystemError('GPU device not found')\r\n",
        "print('Found GPU at: {}'.format(device_name))"
      ],
      "execution_count": 3,
      "outputs": [
        {
          "output_type": "stream",
          "text": [
            "Found GPU at: /device:GPU:0\n"
          ],
          "name": "stdout"
        }
      ]
    },
    {
      "cell_type": "markdown",
      "metadata": {
        "id": "HJExWOeFx6EC"
      },
      "source": [
        "# MNIST dataset"
      ]
    },
    {
      "cell_type": "code",
      "metadata": {
        "id": "kI1FSXVBx6ED",
        "outputId": "a1bbb6bb-48b9-4893-fad0-4b5a71a0b08c",
        "colab": {
          "base_uri": "https://localhost:8080/"
        }
      },
      "source": [
        "mnist = tf.keras.datasets.mnist\n",
        "\n",
        "(x_train, y_train), (x_test, y_test) = mnist.load_data()\n",
        "x_train = x_train.astype(np.float32) / 255\n",
        "x_test = x_test.astype(np.float32) / 255"
      ],
      "execution_count": 4,
      "outputs": [
        {
          "output_type": "stream",
          "text": [
            "Downloading data from https://storage.googleapis.com/tensorflow/tf-keras-datasets/mnist.npz\n",
            "11493376/11490434 [==============================] - 0s 0us/step\n"
          ],
          "name": "stdout"
        }
      ]
    },
    {
      "cell_type": "code",
      "metadata": {
        "colab": {
          "base_uri": "https://localhost:8080/",
          "height": 282
        },
        "id": "BfwesbDjxZ76",
        "outputId": "76f992fe-be42-4fc7-a338-cc8286e43454"
      },
      "source": [
        "plt.imshow(x_train[0])"
      ],
      "execution_count": 5,
      "outputs": [
        {
          "output_type": "execute_result",
          "data": {
            "text/plain": [
              "<matplotlib.image.AxesImage at 0x7f79601a4208>"
            ]
          },
          "metadata": {
            "tags": []
          },
          "execution_count": 5
        },
        {
          "output_type": "display_data",
          "data": {
            "image/png": "[encoded data removed]",
            "text/plain": [
              "<Figure size 432x288 with 1 Axes>"
            ]
          },
          "metadata": {
            "tags": [],
            "needs_background": "light"
          }
        }
      ]
    },
    {
      "cell_type": "markdown",
      "metadata": {
        "id": "xY2HhhLK0uCO"
      },
      "source": [
        "# Variational Autoencoder"
      ]
    },
    {
      "cell_type": "code",
      "metadata": {
        "id": "O_EKstoU0wNT"
      },
      "source": [
        "# Some general information on the data\n",
        "input_shape = (28, 28, 1)\n",
        "encoded_size = 40"
      ],
      "execution_count": 44,
      "outputs": []
    },
    {
      "cell_type": "code",
      "metadata": {
        "id": "tQRFWFSf6CL7"
      },
      "source": [
        "# This is the prior on the latent space (which we assumed to be 40-dimensional)\n",
        "prior = tfp.distributions.Independent(\n",
        "    tfp.distributions.Normal(\n",
        "        loc=tf.zeros(encoded_size),\n",
        "        scale=1.0,\n",
        "    ),\n",
        "    reinterpreted_batch_ndims=1,\n",
        ")"
      ],
      "execution_count": 45,
      "outputs": []
    },
    {
      "cell_type": "code",
      "metadata": {
        "id": "z0XYuFVb6WGS",
        "colab": {
          "base_uri": "https://localhost:8080/"
        },
        "outputId": "efc226d6-4531-48f9-90d1-d0764dd14aa9"
      },
      "source": [
        "# Explore the prior\n",
        "print(prior)\n",
        "prior.sample(1)"
      ],
      "execution_count": 46,
      "outputs": [
        {
          "output_type": "stream",
          "text": [
            "tfp.distributions.Independent(\"IndependentNormal\", batch_shape=[], event_shape=[40], dtype=float32)\n"
          ],
          "name": "stdout"
        },
        {
          "output_type": "execute_result",
          "data": {
            "text/plain": [
              "<tf.Tensor: shape=(1, 40), dtype=float32, numpy=\n",
              "array([[ 1.4711041 , -1.6341562 ,  1.105325  , -0.12961638, -0.03893477,\n",
              "        -1.008239  , -1.7084885 , -0.27491644, -0.34605995, -0.29213294,\n",
              "         0.39420554, -0.5741025 ,  1.1279949 , -0.94496006,  0.63413346,\n",
              "        -0.36834875, -0.18733507, -0.91080594,  0.03373637, -0.77165717,\n",
              "        -1.5719982 , -0.3856489 ,  0.7380592 , -0.9795575 ,  0.07329593,\n",
              "        -0.6060336 , -0.13269772, -0.44528887, -0.92689294,  0.7305634 ,\n",
              "         0.40073776, -0.5826444 , -1.4229927 , -0.9884907 , -0.5581511 ,\n",
              "        -0.05062386, -1.1207061 ,  0.0306418 ,  0.61606306, -0.79370284]],\n",
              "      dtype=float32)>"
            ]
          },
          "metadata": {
            "tags": []
          },
          "execution_count": 46
        }
      ]
    },
    {
      "cell_type": "code",
      "metadata": {
        "id": "PqpGOuF86Z1n"
      },
      "source": [
        "# Define the encoder and decoder network (note that the last two\n",
        "# layers are probabilistic and have to use the reparametrization trick,\n",
        "# which is automatically done by tfp)\n",
        "encoder = tf.keras.Sequential([\n",
        "    tf.keras.layers.InputLayer(input_shape=input_shape),\n",
        "    tf.keras.layers.Flatten(),\n",
        "    tf.keras.layers.Dense(300, activation=\"relu\", kernel_initializer=\"he_normal\"),\n",
        "    tf.keras.layers.Dense(300, activation=\"relu\"),\n",
        "    tf.keras.layers.Dense(\n",
        "        tfp.layers.MultivariateNormalTriL.params_size(encoded_size),\n",
        "        activation=None,\n",
        "    ),\n",
        "    tfp.layers.MultivariateNormalTriL(\n",
        "        encoded_size,\n",
        "        activity_regularizer=tfp.layers.KLDivergenceRegularizer(prior),\n",
        "    )\n",
        "])"
      ],
      "execution_count": 47,
      "outputs": []
    },
    {
      "cell_type": "code",
      "metadata": {
        "id": "9vrcWH5XBJry"
      },
      "source": [
        "decoder = tf.keras.Sequential([\n",
        "    tf.keras.layers.InputLayer(input_shape=[encoded_size]),\n",
        "    keras.layers.Dense(300, activation=\"relu\"),\n",
        "    keras.layers.Dense(300, activation=\"relu\"),\n",
        "    keras.layers.Dense(784, activation=\"relu\"),\n",
        "    tfp.layers.IndependentBernoulli(\n",
        "        input_shape,\n",
        "        tfp.distributions.Bernoulli.logits\n",
        "    )\n",
        "])"
      ],
      "execution_count": 55,
      "outputs": []
    },
    {
      "cell_type": "code",
      "metadata": {
        "id": "m_GXnb12614Q"
      },
      "source": [
        "vae = tf.keras.Model(inputs=encoder.inputs, outputs=decoder(encoder.outputs[0]))"
      ],
      "execution_count": 56,
      "outputs": []
    },
    {
      "cell_type": "code",
      "metadata": {
        "id": "pCx-cnl8Cvgv"
      },
      "source": [
        "# Train the model (with variational inference)\n",
        "neg_log_likelihood = lambda x, rv_x: -rv_x.log_prob(x)\n",
        "\n",
        "vae.compile(optimizer=tf.optimizers.Adam(1.0e-3), loss=neg_log_likelihood)\n"
      ],
      "execution_count": 57,
      "outputs": []
    },
    {
      "cell_type": "code",
      "metadata": {
        "id": "p9UfgzRzC-xT"
      },
      "source": [
        "import tensorflow_datasets as tfds\n",
        "\n",
        "datasets, datasets_info = tfds.load(name='mnist',\n",
        "                                    with_info=True,\n",
        "                                    as_supervised=False)\n",
        "\n",
        "def _preprocess(sample):\n",
        "  image = tf.cast(sample['image'], tf.float32) / 255.  # Scale to unit interval.\n",
        "  image = image < tf.random.uniform(tf.shape(image))   # Randomly binarize.\n",
        "  return image, image\n",
        "\n",
        "train_dataset = (datasets['train']\n",
        "                 .map(_preprocess)\n",
        "                 .batch(100)\n",
        "                 .prefetch(tf.data.experimental.AUTOTUNE)\n",
        "                 .shuffle(int(10e3)))\n",
        "eval_dataset = (datasets['test']\n",
        "                .map(_preprocess)\n",
        "                .batch(100)\n",
        "                .prefetch(tf.data.experimental.AUTOTUNE))\n",
        "\n",
        "(x_train, y_train), (x_test, y_test) = mnist.load_data()\n",
        "x_train = x_train.astype(np.float32) / 255.\n",
        "x_test = x_test.astype(np.float32) / 255.\n"
      ],
      "execution_count": 58,
      "outputs": []
    },
    {
      "cell_type": "code",
      "metadata": {
        "id": "qDkdAZ2DEdph",
        "colab": {
          "base_uri": "https://localhost:8080/"
        },
        "outputId": "832287d5-173f-411a-bc16-8062ffbd8e25"
      },
      "source": [
        "datasets_info.features[\"image\"].shape"
      ],
      "execution_count": 59,
      "outputs": [
        {
          "output_type": "execute_result",
          "data": {
            "text/plain": [
              "(28, 28, 1)"
            ]
          },
          "metadata": {
            "tags": []
          },
          "execution_count": 59
        }
      ]
    },
    {
      "cell_type": "code",
      "metadata": {
        "id": "vDq940_pEoWs",
        "colab": {
          "base_uri": "https://localhost:8080/"
        },
        "outputId": "5a8ca78e-c139-4865-b702-2f8f023d23e3"
      },
      "source": [
        "with tf.device('/device:GPU:0'):\n",
        "    _ = vae.fit(train_dataset,\n",
        "            epochs=100,\n",
        "            validation_data=eval_dataset)"
      ],
      "execution_count": 74,
      "outputs": [
        {
          "output_type": "stream",
          "text": [
            "Epoch 1/100\n",
            "600/600 [==============================] - 6s 6ms/step - loss: 165.2422 - val_loss: 165.6010\n",
            "Epoch 2/100\n",
            "600/600 [==============================] - 6s 5ms/step - loss: 165.0077 - val_loss: 165.2153\n",
            "Epoch 3/100\n",
            "600/600 [==============================] - 7s 6ms/step - loss: 164.8805 - val_loss: 164.6787\n",
            "Epoch 4/100\n",
            "600/600 [==============================] - 6s 5ms/step - loss: 164.6319 - val_loss: 164.4897\n",
            "Epoch 5/100\n",
            "600/600 [==============================] - 7s 7ms/step - loss: 164.5808 - val_loss: 165.6711\n",
            "Epoch 6/100\n",
            "600/600 [==============================] - 6s 6ms/step - loss: 164.2084 - val_loss: 164.1753\n",
            "Epoch 7/100\n",
            "600/600 [==============================] - 7s 6ms/step - loss: 163.9503 - val_loss: 165.2687\n",
            "Epoch 8/100\n",
            "600/600 [==============================] - 6s 5ms/step - loss: 163.7938 - val_loss: 163.9612\n",
            "Epoch 9/100\n",
            "600/600 [==============================] - 6s 6ms/step - loss: 163.3678 - val_loss: 163.9814\n",
            "Epoch 10/100\n",
            "600/600 [==============================] - 7s 6ms/step - loss: 163.2632 - val_loss: 163.9201\n",
            "Epoch 11/100\n",
            "600/600 [==============================] - 7s 6ms/step - loss: 163.1748 - val_loss: 163.1651\n",
            "Epoch 12/100\n",
            "600/600 [==============================] - 6s 5ms/step - loss: 163.2021 - val_loss: 163.2711\n",
            "Epoch 13/100\n",
            "600/600 [==============================] - 6s 6ms/step - loss: 163.0348 - val_loss: 162.9381\n",
            "Epoch 14/100\n",
            "600/600 [==============================] - 7s 6ms/step - loss: 163.0058 - val_loss: 162.9145\n",
            "Epoch 15/100\n",
            "600/600 [==============================] - 7s 6ms/step - loss: 162.8940 - val_loss: 163.4171\n",
            "Epoch 16/100\n",
            "600/600 [==============================] - 6s 5ms/step - loss: 162.6127 - val_loss: 164.1021\n",
            "Epoch 17/100\n",
            "600/600 [==============================] - 6s 5ms/step - loss: 162.2166 - val_loss: 162.4167\n",
            "Epoch 18/100\n",
            "600/600 [==============================] - 7s 6ms/step - loss: 163.6519 - val_loss: 165.0295\n",
            "Epoch 19/100\n",
            "600/600 [==============================] - 6s 5ms/step - loss: 162.0914 - val_loss: 162.5791\n",
            "Epoch 20/100\n",
            "600/600 [==============================] - 6s 6ms/step - loss: 161.9093 - val_loss: 161.9779\n",
            "Epoch 21/100\n",
            "600/600 [==============================] - 6s 6ms/step - loss: 161.9656 - val_loss: 161.9644\n",
            "Epoch 22/100\n",
            "600/600 [==============================] - 6s 6ms/step - loss: 161.6822 - val_loss: 161.9893\n",
            "Epoch 23/100\n",
            "600/600 [==============================] - 7s 6ms/step - loss: 161.7077 - val_loss: 162.7261\n",
            "Epoch 24/100\n",
            "600/600 [==============================] - 6s 6ms/step - loss: 161.9698 - val_loss: 163.2340\n",
            "Epoch 25/100\n",
            "600/600 [==============================] - 7s 6ms/step - loss: 161.6720 - val_loss: 161.5418\n",
            "Epoch 26/100\n",
            "600/600 [==============================] - 7s 6ms/step - loss: 161.4809 - val_loss: 161.7630\n",
            "Epoch 27/100\n",
            "600/600 [==============================] - 6s 6ms/step - loss: 161.6143 - val_loss: 162.4798\n",
            "Epoch 28/100\n",
            "600/600 [==============================] - 7s 6ms/step - loss: 161.4491 - val_loss: 163.6702\n",
            "Epoch 29/100\n",
            "600/600 [==============================] - 6s 6ms/step - loss: 161.2921 - val_loss: 161.3050\n",
            "Epoch 30/100\n",
            "600/600 [==============================] - 7s 6ms/step - loss: 161.1090 - val_loss: 161.6257\n",
            "Epoch 31/100\n",
            "600/600 [==============================] - 7s 6ms/step - loss: 161.0867 - val_loss: 161.3277\n",
            "Epoch 32/100\n",
            "600/600 [==============================] - 7s 6ms/step - loss: 160.8227 - val_loss: 161.6335\n",
            "Epoch 33/100\n",
            "600/600 [==============================] - 6s 6ms/step - loss: 160.9355 - val_loss: 161.5798\n",
            "Epoch 34/100\n",
            "600/600 [==============================] - 7s 6ms/step - loss: 161.3388 - val_loss: 161.3929\n",
            "Epoch 35/100\n",
            "600/600 [==============================] - 6s 6ms/step - loss: 160.8303 - val_loss: 161.4653\n",
            "Epoch 36/100\n",
            "600/600 [==============================] - 7s 6ms/step - loss: 161.0927 - val_loss: 161.6078\n",
            "Epoch 37/100\n",
            "600/600 [==============================] - 6s 6ms/step - loss: 160.8883 - val_loss: 161.0361\n",
            "Epoch 38/100\n",
            "600/600 [==============================] - 6s 5ms/step - loss: 160.7704 - val_loss: 160.7726\n",
            "Epoch 39/100\n",
            "600/600 [==============================] - 6s 6ms/step - loss: 160.5531 - val_loss: 161.4472\n",
            "Epoch 40/100\n",
            "600/600 [==============================] - 6s 6ms/step - loss: 160.8366 - val_loss: 162.1734\n",
            "Epoch 41/100\n",
            "600/600 [==============================] - 6s 6ms/step - loss: 160.3333 - val_loss: 160.2349\n",
            "Epoch 42/100\n",
            "600/600 [==============================] - 6s 6ms/step - loss: 163.5899 - val_loss: 165.4259\n",
            "Epoch 43/100\n",
            "600/600 [==============================] - 7s 6ms/step - loss: 161.8966 - val_loss: 161.3492\n",
            "Epoch 44/100\n",
            "600/600 [==============================] - 7s 6ms/step - loss: 159.5124 - val_loss: 159.9389\n",
            "Epoch 45/100\n",
            "600/600 [==============================] - 7s 6ms/step - loss: 159.0241 - val_loss: 159.1421\n",
            "Epoch 46/100\n",
            "600/600 [==============================] - 6s 6ms/step - loss: 160.1454 - val_loss: 159.7235\n",
            "Epoch 47/100\n",
            "600/600 [==============================] - 7s 6ms/step - loss: 158.7615 - val_loss: 158.9601\n",
            "Epoch 48/100\n",
            "600/600 [==============================] - 6s 5ms/step - loss: 159.4892 - val_loss: 164.9803\n",
            "Epoch 49/100\n",
            "600/600 [==============================] - 6s 6ms/step - loss: 159.8127 - val_loss: 158.3118\n",
            "Epoch 50/100\n",
            "600/600 [==============================] - 6s 6ms/step - loss: 160.4587 - val_loss: 160.1093\n",
            "Epoch 51/100\n",
            "600/600 [==============================] - 7s 6ms/step - loss: 158.4707 - val_loss: 159.2351\n",
            "Epoch 52/100\n",
            "600/600 [==============================] - 6s 6ms/step - loss: 158.5540 - val_loss: 158.7118\n",
            "Epoch 53/100\n",
            "600/600 [==============================] - 6s 5ms/step - loss: 158.7058 - val_loss: 159.2519\n",
            "Epoch 54/100\n",
            "600/600 [==============================] - 7s 6ms/step - loss: 158.0589 - val_loss: 158.6953\n",
            "Epoch 55/100\n",
            "600/600 [==============================] - 7s 6ms/step - loss: 158.7917 - val_loss: 159.1459\n",
            "Epoch 56/100\n",
            "600/600 [==============================] - 6s 6ms/step - loss: 157.7928 - val_loss: 158.4408\n",
            "Epoch 57/100\n",
            "600/600 [==============================] - 7s 6ms/step - loss: 157.4484 - val_loss: 158.0558\n",
            "Epoch 58/100\n",
            "600/600 [==============================] - 6s 6ms/step - loss: 157.1791 - val_loss: 157.5114\n",
            "Epoch 59/100\n",
            "600/600 [==============================] - 6s 6ms/step - loss: 157.3011 - val_loss: 157.8495\n",
            "Epoch 60/100\n",
            "600/600 [==============================] - 7s 6ms/step - loss: 156.9653 - val_loss: 157.4319\n",
            "Epoch 61/100\n",
            "600/600 [==============================] - 6s 6ms/step - loss: 157.1752 - val_loss: 160.9219\n",
            "Epoch 62/100\n",
            "600/600 [==============================] - 6s 6ms/step - loss: 156.8766 - val_loss: 157.3697\n",
            "Epoch 63/100\n",
            "600/600 [==============================] - 6s 5ms/step - loss: 156.9401 - val_loss: 158.3484\n",
            "Epoch 64/100\n",
            "600/600 [==============================] - 6s 5ms/step - loss: 157.7706 - val_loss: 157.6453\n",
            "Epoch 65/100\n",
            "600/600 [==============================] - 7s 6ms/step - loss: 156.6253 - val_loss: 157.0103\n",
            "Epoch 66/100\n",
            "600/600 [==============================] - 6s 6ms/step - loss: 157.3481 - val_loss: 157.1510\n",
            "Epoch 67/100\n",
            "600/600 [==============================] - 7s 6ms/step - loss: 156.5676 - val_loss: 157.4555\n",
            "Epoch 68/100\n",
            "600/600 [==============================] - 6s 5ms/step - loss: 156.6407 - val_loss: 156.8738\n",
            "Epoch 69/100\n",
            "600/600 [==============================] - 6s 6ms/step - loss: 156.4855 - val_loss: 157.2678\n",
            "Epoch 70/100\n",
            "600/600 [==============================] - 7s 6ms/step - loss: 156.8846 - val_loss: 157.1897\n",
            "Epoch 71/100\n",
            "600/600 [==============================] - 7s 6ms/step - loss: 156.1732 - val_loss: 156.9545\n",
            "Epoch 72/100\n",
            "600/600 [==============================] - 6s 5ms/step - loss: 156.2532 - val_loss: 157.3697\n",
            "Epoch 73/100\n",
            "600/600 [==============================] - 6s 6ms/step - loss: 158.7656 - val_loss: 160.0359\n",
            "Epoch 74/100\n",
            "600/600 [==============================] - 6s 5ms/step - loss: 157.0129 - val_loss: 157.3804\n",
            "Epoch 75/100\n",
            "600/600 [==============================] - 6s 6ms/step - loss: 156.2010 - val_loss: 157.4191\n",
            "Epoch 76/100\n",
            "600/600 [==============================] - 6s 5ms/step - loss: 156.1842 - val_loss: 157.3233\n",
            "Epoch 77/100\n",
            "600/600 [==============================] - 6s 6ms/step - loss: 157.3181 - val_loss: 160.1201\n",
            "Epoch 78/100\n",
            "600/600 [==============================] - 6s 6ms/step - loss: 156.8501 - val_loss: 157.0148\n",
            "Epoch 79/100\n",
            "600/600 [==============================] - 6s 5ms/step - loss: 155.9275 - val_loss: 156.4811\n",
            "Epoch 80/100\n",
            "600/600 [==============================] - 6s 5ms/step - loss: 155.8829 - val_loss: 158.9724\n",
            "Epoch 81/100\n",
            "600/600 [==============================] - 6s 6ms/step - loss: 156.0459 - val_loss: 156.4898\n",
            "Epoch 82/100\n",
            "600/600 [==============================] - 6s 5ms/step - loss: 155.8948 - val_loss: 156.3964\n",
            "Epoch 83/100\n",
            "600/600 [==============================] - 6s 6ms/step - loss: 155.9006 - val_loss: 155.9149\n",
            "Epoch 84/100\n",
            "600/600 [==============================] - 7s 6ms/step - loss: 155.5399 - val_loss: 157.1191\n",
            "Epoch 85/100\n",
            "600/600 [==============================] - 7s 6ms/step - loss: 155.5427 - val_loss: 157.0349\n",
            "Epoch 86/100\n",
            "600/600 [==============================] - 6s 5ms/step - loss: 155.7022 - val_loss: 156.4404\n",
            "Epoch 87/100\n",
            "600/600 [==============================] - 6s 5ms/step - loss: 155.4611 - val_loss: 156.4311\n",
            "Epoch 88/100\n",
            "600/600 [==============================] - 6s 6ms/step - loss: 155.6655 - val_loss: 155.9011\n",
            "Epoch 89/100\n",
            "600/600 [==============================] - 7s 6ms/step - loss: 155.5181 - val_loss: 156.1430\n",
            "Epoch 90/100\n",
            "600/600 [==============================] - 7s 7ms/step - loss: 155.3566 - val_loss: 156.4085\n",
            "Epoch 91/100\n",
            "600/600 [==============================] - 6s 6ms/step - loss: 155.9295 - val_loss: 156.0995\n",
            "Epoch 92/100\n",
            "600/600 [==============================] - 6s 6ms/step - loss: 155.7746 - val_loss: 156.0114\n",
            "Epoch 93/100\n",
            "600/600 [==============================] - 6s 6ms/step - loss: 155.6533 - val_loss: 156.1030\n",
            "Epoch 94/100\n",
            "600/600 [==============================] - 6s 6ms/step - loss: 155.9612 - val_loss: 156.6307\n",
            "Epoch 95/100\n",
            "600/600 [==============================] - 6s 6ms/step - loss: 155.4977 - val_loss: 155.4354\n",
            "Epoch 96/100\n",
            "600/600 [==============================] - 6s 6ms/step - loss: 155.3292 - val_loss: 156.5141\n",
            "Epoch 97/100\n",
            "600/600 [==============================] - 7s 6ms/step - loss: 155.4465 - val_loss: 155.6597\n",
            "Epoch 98/100\n",
            "600/600 [==============================] - 6s 5ms/step - loss: 155.5846 - val_loss: 156.1408\n",
            "Epoch 99/100\n",
            "600/600 [==============================] - 6s 5ms/step - loss: 155.3071 - val_loss: 155.9612\n",
            "Epoch 100/100\n",
            "600/600 [==============================] - 6s 6ms/step - loss: 155.2070 - val_loss: 155.9679\n"
          ],
          "name": "stdout"
        }
      ]
    },
    {
      "cell_type": "code",
      "metadata": {
        "id": "OqFolQ1fJVfr"
      },
      "source": [
        "def display_imgs(x, y=None):\n",
        "  if not isinstance(x, (np.ndarray, np.generic)):\n",
        "    x = np.array(x)\n",
        "  plt.ioff()\n",
        "  n = x.shape[0]\n",
        "  fig, axs = plt.subplots(1, n, figsize=(n, 1))\n",
        "  if y is not None:\n",
        "    fig.suptitle(np.argmax(y, axis=1))\n",
        "  for i in range(n):\n",
        "    axs.flat[i].imshow(x[i].squeeze(), interpolation='none', cmap='gray')\n",
        "    axs.flat[i].axis('off')\n",
        "  plt.show()\n",
        "  plt.close()\n",
        "  plt.ion()\n"
      ],
      "execution_count": 76,
      "outputs": []
    },
    {
      "cell_type": "code",
      "metadata": {
        "id": "bN7TBBHfErTQ"
      },
      "source": [
        "img = next(iter(train_dataset))[0][:10]"
      ],
      "execution_count": 77,
      "outputs": []
    },
    {
      "cell_type": "code",
      "metadata": {
        "id": "RKCFSsHdiHHm",
        "outputId": "b691d638-4823-4c86-fbdd-587a5643e3fc",
        "colab": {
          "base_uri": "https://localhost:8080/"
        }
      },
      "source": [
        "img.shape"
      ],
      "execution_count": 78,
      "outputs": [
        {
          "output_type": "execute_result",
          "data": {
            "text/plain": [
              "TensorShape([10, 28, 28, 1])"
            ]
          },
          "metadata": {
            "tags": []
          },
          "execution_count": 78
        }
      ]
    },
    {
      "cell_type": "code",
      "metadata": {
        "id": "2-smbOGBFj8K",
        "colab": {
          "base_uri": "https://localhost:8080/",
          "height": 95
        },
        "outputId": "2bcedd0e-f811-40bb-cd75-4e292dcfd7c1"
      },
      "source": [
        "print(\"True image\")\n",
        "display_imgs(img)"
      ],
      "execution_count": 79,
      "outputs": [
        {
          "output_type": "stream",
          "text": [
            "True image\n"
          ],
          "name": "stdout"
        },
        {
          "output_type": "display_data",
          "data": {
            "image/png": "[encoded data removed]",
            "text/plain": [
              "<Figure size 720x72 with 10 Axes>"
            ]
          },
          "metadata": {
            "tags": [],
            "needs_background": "light"
          }
        }
      ]
    },
    {
      "cell_type": "code",
      "metadata": {
        "id": "r75TM29bF5e3"
      },
      "source": [
        "re_encoded_img_dist = vae(img)"
      ],
      "execution_count": 80,
      "outputs": []
    },
    {
      "cell_type": "code",
      "metadata": {
        "id": "xqpkn7kAGHQl",
        "colab": {
          "base_uri": "https://localhost:8080/",
          "height": 78
        },
        "outputId": "e2aed39a-053f-4e33-93f9-adeb58af51d3"
      },
      "source": [
        "display_imgs(re_encoded_img_dist.sample())"
      ],
      "execution_count": 87,
      "outputs": [
        {
          "output_type": "display_data",
          "data": {
            "image/png": "[encoded data removed]",
            "text/plain": [
              "<Figure size 720x72 with 10 Axes>"
            ]
          },
          "metadata": {
            "tags": [],
            "needs_background": "light"
          }
        }
      ]
    },
    {
      "cell_type": "code",
      "metadata": {
        "id": "U4wbZdAqGZu_",
        "colab": {
          "base_uri": "https://localhost:8080/",
          "height": 78
        },
        "outputId": "427afab2-4fee-4fe3-9f4f-e0c4d1aba874"
      },
      "source": [
        "display_imgs(re_encoded_img_dist.mean())"
      ],
      "execution_count": 88,
      "outputs": [
        {
          "output_type": "display_data",
          "data": {
            "image/png": "[encoded data removed]",
            "text/plain": [
              "<Figure size 720x72 with 10 Axes>"
            ]
          },
          "metadata": {
            "tags": [],
            "needs_background": "light"
          }
        }
      ]
    },
    {
      "cell_type": "code",
      "metadata": {
        "id": "CC6dVkH1HQ_D",
        "colab": {
          "base_uri": "https://localhost:8080/",
          "height": 78
        },
        "outputId": "bd0ee6d8-e6fb-45c2-f4e0-c105bd616698"
      },
      "source": [
        "display_imgs(re_encoded_img_dist.mode())"
      ],
      "execution_count": 89,
      "outputs": [
        {
          "output_type": "display_data",
          "data": {
            "image/png": "[encoded data removed]",
            "text/plain": [
              "<Figure size 720x72 with 10 Axes>"
            ]
          },
          "metadata": {
            "tags": [],
            "needs_background": "light"
          }
        }
      ]
    },
    {
      "cell_type": "code",
      "metadata": {
        "id": "hJAP-hleJD-u"
      },
      "source": [
        "# Generate new samples\n",
        "z = prior.sample(10)"
      ],
      "execution_count": 90,
      "outputs": []
    },
    {
      "cell_type": "code",
      "metadata": {
        "id": "E55il3AAJ_ah"
      },
      "source": [
        "x_tilde = decoder(z)"
      ],
      "execution_count": 91,
      "outputs": []
    },
    {
      "cell_type": "code",
      "metadata": {
        "id": "Amr92KcwKDA9",
        "colab": {
          "base_uri": "https://localhost:8080/",
          "height": 78
        },
        "outputId": "c66a2c1e-8545-4ca3-a338-18341412fa41"
      },
      "source": [
        "display_imgs(x_tilde.sample())"
      ],
      "execution_count": 92,
      "outputs": [
        {
          "output_type": "display_data",
          "data": {
            "image/png": "[encoded data removed]",
            "text/plain": [
              "<Figure size 720x72 with 10 Axes>"
            ]
          },
          "metadata": {
            "tags": [],
            "needs_background": "light"
          }
        }
      ]
    },
    {
      "cell_type": "code",
      "metadata": {
        "id": "Ki7PsOCGKJbJ",
        "colab": {
          "base_uri": "https://localhost:8080/",
          "height": 78
        },
        "outputId": "122ea516-e9b9-4877-9fb7-cae84acfe458"
      },
      "source": [
        "display_imgs(x_tilde.mean())"
      ],
      "execution_count": 93,
      "outputs": [
        {
          "output_type": "display_data",
          "data": {
            "image/png": "[encoded data removed]",
            "text/plain": [
              "<Figure size 720x72 with 10 Axes>"
            ]
          },
          "metadata": {
            "tags": [],
            "needs_background": "light"
          }
        }
      ]
    },
    {
      "cell_type": "code",
      "metadata": {
        "id": "yiE0gtwYKKtE",
        "colab": {
          "base_uri": "https://localhost:8080/",
          "height": 78
        },
        "outputId": "cbea2d3d-f148-4b37-b4db-fbceefed18db"
      },
      "source": [
        "display_imgs(x_tilde.mode())"
      ],
      "execution_count": 94,
      "outputs": [
        {
          "output_type": "display_data",
          "data": {
            "image/png": "[encoded data removed]",
            "text/plain": [
              "<Figure size 720x72 with 10 Axes>"
            ]
          },
          "metadata": {
            "tags": [],
            "needs_background": "light"
          }
        }
      ]
    },
    {
      "cell_type": "code",
      "metadata": {
        "id": "ccBTzHIAKL4G"
      },
      "source": [
        ""
      ],
      "execution_count": null,
      "outputs": []
    }
  ]
}
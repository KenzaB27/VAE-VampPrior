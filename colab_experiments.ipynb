{
  "nbformat": 4,
  "nbformat_minor": 0,
  "metadata": {
    "kernelspec": {
      "name": "python3",
      "display_name": "Python 3.6.12 64-bit ('tf-keras-gpu': conda)",
      "metadata": {
        "interpreter": {
          "hash": "2762fd0ccae7a6827a0de0868563b3d499c815e35640ddddc3d2dc7e9a34dcb9"
        }
      }
    },
    "language_info": {
      "codemirror_mode": {
        "name": "ipython",
        "version": 3
      },
      "file_extension": ".py",
      "mimetype": "text/x-python",
      "name": "python",
      "nbconvert_exporter": "python",
      "pygments_lexer": "ipython3",
      "version": "3.6.12-final"
    },
    "colab": {
      "name": "notebook_autoencoder.ipynb",
      "provenance": []
    },
    "accelerator": "GPU",
    "widgets": {
      "application/vnd.jupyter.widget-state+json": {
        "c7cbd78539124afaa48006ed6ae59ee5": {
          "model_module": "@jupyter-widgets/controls",
          "model_name": "HBoxModel",
          "state": {
            "_view_name": "HBoxView",
            "_dom_classes": [],
            "_model_name": "HBoxModel",
            "_view_module": "@jupyter-widgets/controls",
            "_model_module_version": "1.5.0",
            "_view_count": null,
            "_view_module_version": "1.5.0",
            "box_style": "",
            "layout": "IPY_MODEL_771b3cc1723a49e3b30cab5685541b11",
            "_model_module": "@jupyter-widgets/controls",
            "children": [
              "IPY_MODEL_c5dc3f056f7345eb8508db0a6117a45a",
              "IPY_MODEL_8676f65aeaa84b90aa7ade027c57c871"
            ]
          }
        },
        "771b3cc1723a49e3b30cab5685541b11": {
          "model_module": "@jupyter-widgets/base",
          "model_name": "LayoutModel",
          "state": {
            "_view_name": "LayoutView",
            "grid_template_rows": null,
            "right": null,
            "justify_content": null,
            "_view_module": "@jupyter-widgets/base",
            "overflow": null,
            "_model_module_version": "1.2.0",
            "_view_count": null,
            "flex_flow": null,
            "width": null,
            "min_width": null,
            "border": null,
            "align_items": null,
            "bottom": null,
            "_model_module": "@jupyter-widgets/base",
            "top": null,
            "grid_column": null,
            "overflow_y": null,
            "overflow_x": null,
            "grid_auto_flow": null,
            "grid_area": null,
            "grid_template_columns": null,
            "flex": null,
            "_model_name": "LayoutModel",
            "justify_items": null,
            "grid_row": null,
            "max_height": null,
            "align_content": null,
            "visibility": null,
            "align_self": null,
            "height": null,
            "min_height": null,
            "padding": null,
            "grid_auto_rows": null,
            "grid_gap": null,
            "max_width": null,
            "order": null,
            "_view_module_version": "1.2.0",
            "grid_template_areas": null,
            "object_position": null,
            "object_fit": null,
            "grid_auto_columns": null,
            "margin": null,
            "display": null,
            "left": null
          }
        },
        "c5dc3f056f7345eb8508db0a6117a45a": {
          "model_module": "@jupyter-widgets/controls",
          "model_name": "FloatProgressModel",
          "state": {
            "_view_name": "ProgressView",
            "style": "IPY_MODEL_6441340ce25642679600d24fe126d435",
            "_dom_classes": [],
            "description": "Dl Completed...: 100%",
            "_model_name": "FloatProgressModel",
            "bar_style": "success",
            "max": 4,
            "_view_module": "@jupyter-widgets/controls",
            "_model_module_version": "1.5.0",
            "value": 4,
            "_view_count": null,
            "_view_module_version": "1.5.0",
            "orientation": "horizontal",
            "min": 0,
            "description_tooltip": null,
            "_model_module": "@jupyter-widgets/controls",
            "layout": "IPY_MODEL_8d52557d3dbb4ec2976fdf5efdc654b0"
          }
        },
        "8676f65aeaa84b90aa7ade027c57c871": {
          "model_module": "@jupyter-widgets/controls",
          "model_name": "HTMLModel",
          "state": {
            "_view_name": "HTMLView",
            "style": "IPY_MODEL_20a488ae8f8b442c8375adba67117371",
            "_dom_classes": [],
            "description": "",
            "_model_name": "HTMLModel",
            "placeholder": "​",
            "_view_module": "@jupyter-widgets/controls",
            "_model_module_version": "1.5.0",
            "value": " 4/4 [00:00&lt;00:00,  4.53 file/s]",
            "_view_count": null,
            "_view_module_version": "1.5.0",
            "description_tooltip": null,
            "_model_module": "@jupyter-widgets/controls",
            "layout": "IPY_MODEL_4af174d88ce943d2847739da4cbf92a0"
          }
        },
        "6441340ce25642679600d24fe126d435": {
          "model_module": "@jupyter-widgets/controls",
          "model_name": "ProgressStyleModel",
          "state": {
            "_view_name": "StyleView",
            "_model_name": "ProgressStyleModel",
            "description_width": "initial",
            "_view_module": "@jupyter-widgets/base",
            "_model_module_version": "1.5.0",
            "_view_count": null,
            "_view_module_version": "1.2.0",
            "bar_color": null,
            "_model_module": "@jupyter-widgets/controls"
          }
        },
        "8d52557d3dbb4ec2976fdf5efdc654b0": {
          "model_module": "@jupyter-widgets/base",
          "model_name": "LayoutModel",
          "state": {
            "_view_name": "LayoutView",
            "grid_template_rows": null,
            "right": null,
            "justify_content": null,
            "_view_module": "@jupyter-widgets/base",
            "overflow": null,
            "_model_module_version": "1.2.0",
            "_view_count": null,
            "flex_flow": null,
            "width": null,
            "min_width": null,
            "border": null,
            "align_items": null,
            "bottom": null,
            "_model_module": "@jupyter-widgets/base",
            "top": null,
            "grid_column": null,
            "overflow_y": null,
            "overflow_x": null,
            "grid_auto_flow": null,
            "grid_area": null,
            "grid_template_columns": null,
            "flex": null,
            "_model_name": "LayoutModel",
            "justify_items": null,
            "grid_row": null,
            "max_height": null,
            "align_content": null,
            "visibility": null,
            "align_self": null,
            "height": null,
            "min_height": null,
            "padding": null,
            "grid_auto_rows": null,
            "grid_gap": null,
            "max_width": null,
            "order": null,
            "_view_module_version": "1.2.0",
            "grid_template_areas": null,
            "object_position": null,
            "object_fit": null,
            "grid_auto_columns": null,
            "margin": null,
            "display": null,
            "left": null
          }
        },
        "20a488ae8f8b442c8375adba67117371": {
          "model_module": "@jupyter-widgets/controls",
          "model_name": "DescriptionStyleModel",
          "state": {
            "_view_name": "StyleView",
            "_model_name": "DescriptionStyleModel",
            "description_width": "",
            "_view_module": "@jupyter-widgets/base",
            "_model_module_version": "1.5.0",
            "_view_count": null,
            "_view_module_version": "1.2.0",
            "_model_module": "@jupyter-widgets/controls"
          }
        },
        "4af174d88ce943d2847739da4cbf92a0": {
          "model_module": "@jupyter-widgets/base",
          "model_name": "LayoutModel",
          "state": {
            "_view_name": "LayoutView",
            "grid_template_rows": null,
            "right": null,
            "justify_content": null,
            "_view_module": "@jupyter-widgets/base",
            "overflow": null,
            "_model_module_version": "1.2.0",
            "_view_count": null,
            "flex_flow": null,
            "width": null,
            "min_width": null,
            "border": null,
            "align_items": null,
            "bottom": null,
            "_model_module": "@jupyter-widgets/base",
            "top": null,
            "grid_column": null,
            "overflow_y": null,
            "overflow_x": null,
            "grid_auto_flow": null,
            "grid_area": null,
            "grid_template_columns": null,
            "flex": null,
            "_model_name": "LayoutModel",
            "justify_items": null,
            "grid_row": null,
            "max_height": null,
            "align_content": null,
            "visibility": null,
            "align_self": null,
            "height": null,
            "min_height": null,
            "padding": null,
            "grid_auto_rows": null,
            "grid_gap": null,
            "max_width": null,
            "order": null,
            "_view_module_version": "1.2.0",
            "grid_template_areas": null,
            "object_position": null,
            "object_fit": null,
            "grid_auto_columns": null,
            "margin": null,
            "display": null,
            "left": null
          }
        }
      }
    }
  },
  "cells": [
    {
      "cell_type": "code",
      "metadata": {
        "id": "2QywJts6x6D3"
      },
      "source": [
        "import numpy as np \n",
        "import tensorflow as tf \n",
        "import tensorflow_probability as tfp\n",
        "from tensorflow import keras"
      ],
      "execution_count": 68,
      "outputs": []
    },
    {
      "cell_type": "code",
      "metadata": {
        "id": "Y1NptrGZxg6e"
      },
      "source": [
        "import matplotlib.pyplot as plt\n",
        "import seaborn as sns"
      ],
      "execution_count": 32,
      "outputs": []
    },
    {
      "cell_type": "code",
      "metadata": {
        "id": "YrbvNuEB2k7Y"
      },
      "source": [
        "%tensorflow_version 2.x\r\n",
        "\r\n",
        "try:\r\n",
        "  tpu = tf.distribute.cluster_resolver.TPUClusterResolver()  # TPU detection\r\n",
        "  print('Running on TPU ', tpu.cluster_spec().as_dict()['worker'])\r\n",
        "except ValueError:\r\n",
        "  raise BaseException('ERROR: Not connected to a TPU runtime; please see the previous cell in this notebook for instructions!')\r\n",
        "\r\n",
        "tf.config.experimental_connect_to_cluster(tpu)\r\n",
        "tf.tpu.experimental.initialize_tpu_system(tpu)\r\n",
        "tpu_strategy = tf.distribute.experimental.TPUStrategy(tpu)"
      ],
      "execution_count": null,
      "outputs": []
    },
    {
      "cell_type": "markdown",
      "metadata": {
        "id": "HJExWOeFx6EC"
      },
      "source": [
        "# MNIST dataset"
      ]
    },
    {
      "cell_type": "code",
      "metadata": {
        "id": "kI1FSXVBx6ED"
      },
      "source": [
        "mnist = tf.keras.datasets.mnist\n",
        "\n",
        "(x_train, y_train), (x_test, y_test) = mnist.load_data()\n",
        "x_train = x_train.astype(np.float32) / 255\n",
        "x_test = x_test.astype(np.float32) / 255"
      ],
      "execution_count": 33,
      "outputs": []
    },
    {
      "cell_type": "code",
      "metadata": {
        "colab": {
          "base_uri": "https://localhost:8080/",
          "height": 282
        },
        "id": "BfwesbDjxZ76",
        "outputId": "606f8bf9-f99d-410e-ec42-e645f0a6252a"
      },
      "source": [
        "plt.imshow(x_train[0])"
      ],
      "execution_count": 34,
      "outputs": [
        {
          "output_type": "execute_result",
          "data": {
            "text/plain": [
              "<matplotlib.image.AxesImage at 0x7fc7d18d9ba8>"
            ]
          },
          "metadata": {
            "tags": []
          },
          "execution_count": 34
        },
        {
          "output_type": "display_data",
          "data": {
            "image/png": "[encoded data removed]",
            "text/plain": [
              "<Figure size 432x288 with 1 Axes>"
            ]
          },
          "metadata": {
            "tags": [],
            "needs_background": "light"
          }
        }
      ]
    },
    {
      "cell_type": "markdown",
      "metadata": {
        "id": "tnjecx3j0on2"
      },
      "source": [
        "# Simple Deterministic MNIST Model"
      ]
    },
    {
      "cell_type": "code",
      "metadata": {
        "id": "B9uzp4ZKxcUK"
      },
      "source": [
        "model = tf.keras.models.Sequential([\n",
        "  tf.keras.layers.Flatten(input_shape=(28, 28)),\n",
        "  tf.keras.layers.Dense(1280, activation=\"relu\"),\n",
        "  tf.keras.layers.Dense(1280, activation=\"relu\"),\n",
        "  tf.keras.layers.Dense(10),\n",
        "])"
      ],
      "execution_count": 35,
      "outputs": []
    },
    {
      "cell_type": "code",
      "metadata": {
        "id": "oP49jGrsx9_O"
      },
      "source": [
        "model.compile(\n",
        "    optimizer=tf.keras.optimizers.Adam(0.001),\n",
        "    loss=tf.keras.losses.SparseCategoricalCrossentropy(from_logits=True),\n",
        "    metrics=[tf.keras.metrics.SparseCategoricalAccuracy()],\n",
        ")"
      ],
      "execution_count": 36,
      "outputs": []
    },
    {
      "cell_type": "code",
      "metadata": {
        "colab": {
          "base_uri": "https://localhost:8080/"
        },
        "id": "2U2y2dOxy3ef",
        "outputId": "0355e5c5-ca88-4c3a-cdda-4eb96a982e1b"
      },
      "source": [
        "model.fit(x_train, y_train,epochs=6,validation_data=(x_test, y_test))"
      ],
      "execution_count": 37,
      "outputs": [
        {
          "output_type": "stream",
          "text": [
            "Epoch 1/6\n",
            "1875/1875 [==============================] - 4s 2ms/step - loss: 0.2918 - sparse_categorical_accuracy: 0.9089 - val_loss: 0.1122 - val_sparse_categorical_accuracy: 0.9647\n",
            "Epoch 2/6\n",
            "1875/1875 [==============================] - 4s 2ms/step - loss: 0.0861 - sparse_categorical_accuracy: 0.9725 - val_loss: 0.0959 - val_sparse_categorical_accuracy: 0.9711\n",
            "Epoch 3/6\n",
            "1875/1875 [==============================] - 4s 2ms/step - loss: 0.0591 - sparse_categorical_accuracy: 0.9812 - val_loss: 0.0813 - val_sparse_categorical_accuracy: 0.9774\n",
            "Epoch 4/6\n",
            "1875/1875 [==============================] - 4s 2ms/step - loss: 0.0442 - sparse_categorical_accuracy: 0.9865 - val_loss: 0.0834 - val_sparse_categorical_accuracy: 0.9762\n",
            "Epoch 5/6\n",
            "1875/1875 [==============================] - 4s 2ms/step - loss: 0.0347 - sparse_categorical_accuracy: 0.9894 - val_loss: 0.0985 - val_sparse_categorical_accuracy: 0.9744\n",
            "Epoch 6/6\n",
            "1875/1875 [==============================] - 4s 2ms/step - loss: 0.0281 - sparse_categorical_accuracy: 0.9905 - val_loss: 0.0946 - val_sparse_categorical_accuracy: 0.9792\n"
          ],
          "name": "stdout"
        },
        {
          "output_type": "execute_result",
          "data": {
            "text/plain": [
              "<tensorflow.python.keras.callbacks.History at 0x7fc7d0880390>"
            ]
          },
          "metadata": {
            "tags": []
          },
          "execution_count": 37
        }
      ]
    },
    {
      "cell_type": "code",
      "metadata": {
        "colab": {
          "base_uri": "https://localhost:8080/",
          "height": 369
        },
        "id": "ILmmbbnezBxZ",
        "outputId": "b4d11cf6-f16f-4b96-a321-4a2c9120f4ad"
      },
      "source": [
        "tf.keras.utils.plot_model(model)"
      ],
      "execution_count": 8,
      "outputs": [
        {
          "output_type": "execute_result",
          "data": {
            "image/png": "[encoded data removed]",
            "text/plain": [
              "<IPython.core.display.Image object>"
            ]
          },
          "metadata": {
            "tags": []
          },
          "execution_count": 8
        }
      ]
    },
    {
      "cell_type": "code",
      "metadata": {
        "id": "NIQidIIMzjYY"
      },
      "source": [
        "results = model(x_test)"
      ],
      "execution_count": 39,
      "outputs": []
    },
    {
      "cell_type": "code",
      "metadata": {
        "colab": {
          "base_uri": "https://localhost:8080/"
        },
        "id": "uxZW9GtUzpCW",
        "outputId": "bfa70afd-d2bb-46a0-a066-b03a72244c4e"
      },
      "source": [
        "results[:20].numpy().argmax(axis=1)"
      ],
      "execution_count": 40,
      "outputs": [
        {
          "output_type": "execute_result",
          "data": {
            "text/plain": [
              "array([7, 2, 1, 0, 4, 1, 4, 9, 5, 9, 0, 6, 9, 0, 1, 5, 9, 7, 3, 4])"
            ]
          },
          "metadata": {
            "tags": []
          },
          "execution_count": 40
        }
      ]
    },
    {
      "cell_type": "code",
      "metadata": {
        "colab": {
          "base_uri": "https://localhost:8080/"
        },
        "id": "A3a7Hb5x0OEU",
        "outputId": "3dea42cb-74a4-4698-fe09-49924736e390"
      },
      "source": [
        "y_test[:20]"
      ],
      "execution_count": 41,
      "outputs": [
        {
          "output_type": "execute_result",
          "data": {
            "text/plain": [
              "array([7, 2, 1, 0, 4, 1, 4, 9, 5, 9, 0, 6, 9, 0, 1, 5, 9, 7, 3, 4],\n",
              "      dtype=uint8)"
            ]
          },
          "metadata": {
            "tags": []
          },
          "execution_count": 41
        }
      ]
    },
    {
      "cell_type": "markdown",
      "metadata": {
        "id": "xY2HhhLK0uCO"
      },
      "source": [
        "# Variational Autoencoder"
      ]
    },
    {
      "cell_type": "code",
      "metadata": {
        "id": "O_EKstoU0wNT"
      },
      "source": [
        "# Some general information on the data\n",
        "input_shape = (28, 28, 1)\n",
        "encoded_size = 16\n",
        "base_depth = 32\n"
      ],
      "execution_count": 76,
      "outputs": []
    },
    {
      "cell_type": "code",
      "metadata": {
        "id": "tQRFWFSf6CL7"
      },
      "source": [
        "# This is the prior on the latent space (which we assumed to be 16-dimensional)\n",
        "prior = tfp.distributions.Independent(\n",
        "    tfp.distributions.Normal(\n",
        "        loc=tf.zeros(encoded_size),\n",
        "        scale=1.0,\n",
        "    ),\n",
        "    reinterpreted_batch_ndims=1,\n",
        ")"
      ],
      "execution_count": 77,
      "outputs": []
    },
    {
      "cell_type": "code",
      "metadata": {
        "id": "z0XYuFVb6WGS",
        "outputId": "aa8e2685-3119-4717-ed83-7c4c2c150e43",
        "colab": {
          "base_uri": "https://localhost:8080/"
        }
      },
      "source": [
        "# Explore the prior\n",
        "print(prior)\n",
        "prior.sample(1)"
      ],
      "execution_count": 78,
      "outputs": [
        {
          "output_type": "stream",
          "text": [
            "tfp.distributions.Independent(\"IndependentNormal\", batch_shape=[], event_shape=[16], dtype=float32)\n"
          ],
          "name": "stdout"
        },
        {
          "output_type": "execute_result",
          "data": {
            "text/plain": [
              "<tf.Tensor: shape=(1, 16), dtype=float32, numpy=\n",
              "array([[-0.75226706,  0.5912186 , -1.4287255 , -1.3779198 ,  0.38388014,\n",
              "         0.68339753, -0.4271518 , -1.0553145 ,  0.01436165, -0.9232181 ,\n",
              "         0.85849905,  0.24240944, -0.12821557, -1.5683317 , -0.08873583,\n",
              "        -0.81129414]], dtype=float32)>"
            ]
          },
          "metadata": {
            "tags": []
          },
          "execution_count": 78
        }
      ]
    },
    {
      "cell_type": "code",
      "metadata": {
        "id": "PqpGOuF86Z1n"
      },
      "source": [
        "# Define the encoder and decoder network (note that the last two\n",
        "# layers are probabilistic and have to use the reparametrization trick,\n",
        "# which is automatically done by tfp)\n",
        "encoder = tf.keras.Sequential([\n",
        "    tf.keras.layers.InputLayer(input_shape=input_shape),\n",
        "    tf.keras.layers.Lambda(lambda x : tf.cast(x, tf.float32) - 0.5),\n",
        "    tf.keras.layers.Conv2D(\n",
        "        filters=base_depth,\n",
        "        kernel_size=5,\n",
        "        strides=1,\n",
        "        padding=\"same\",\n",
        "        activation=tf.nn.leaky_relu,\n",
        "    ),\n",
        "    tf.keras.layers.Conv2D(\n",
        "        filters=base_depth,\n",
        "        kernel_size=5,\n",
        "        strides=2,\n",
        "        padding=\"same\",\n",
        "        activation=tf.nn.leaky_relu,\n",
        "    ),\n",
        "    tf.keras.layers.Conv2D(\n",
        "        filters=2*base_depth,\n",
        "        kernel_size=5,\n",
        "        strides=1,\n",
        "        padding=\"same\",\n",
        "        activation=tf.nn.leaky_relu,\n",
        "    ),\n",
        "    tf.keras.layers.Conv2D(\n",
        "        filters=2*base_depth,\n",
        "        kernel_size=5,\n",
        "        strides=2,\n",
        "        padding=\"same\",\n",
        "        activation=tf.nn.leaky_relu,\n",
        "    ),\n",
        "    tf.keras.layers.Conv2D(\n",
        "        filters=4*encoded_size,\n",
        "        kernel_size=7,\n",
        "        strides=1,\n",
        "        padding=\"valid\",\n",
        "        activation=tf.nn.leaky_relu,\n",
        "    ),\n",
        "    tf.keras.layers.Flatten(),\n",
        "    tf.keras.layers.Dense(\n",
        "        tfp.layers.MultivariateNormalTriL.params_size(encoded_size),\n",
        "        activation=None,\n",
        "    ),\n",
        "    tfp.layers.MultivariateNormalTriL(\n",
        "        encoded_size,\n",
        "        activity_regularizer=tfp.layers.KLDivergenceRegularizer(prior),\n",
        "    )\n",
        "])"
      ],
      "execution_count": 87,
      "outputs": []
    },
    {
      "cell_type": "code",
      "metadata": {
        "id": "9vrcWH5XBJry"
      },
      "source": [
        "decoder = tf.keras.Sequential([\n",
        "    tf.keras.layers.InputLayer(input_shape=[encoded_size]),\n",
        "    tf.keras.layers.Reshape([1, 1, encoded_size]),\n",
        "    tf.keras.layers.Conv2DTranspose(\n",
        "        filters=2*base_depth,\n",
        "        kernel_size=7,\n",
        "        strides=1,\n",
        "        padding=\"valid\",\n",
        "        activation=tf.nn.leaky_relu,\n",
        "    ),\n",
        "    tf.keras.layers.Conv2DTranspose(\n",
        "        filters=2*base_depth,\n",
        "        kernel_size=5,\n",
        "        strides=1,\n",
        "        padding=\"same\",\n",
        "        activation=tf.nn.leaky_relu,\n",
        "    ),\n",
        "    tf.keras.layers.Conv2DTranspose(\n",
        "        filters=2*base_depth,\n",
        "        kernel_size=5,\n",
        "        strides=2,\n",
        "        padding=\"same\",\n",
        "        activation=tf.nn.leaky_relu,\n",
        "    ),\n",
        "    tf.keras.layers.Conv2DTranspose(\n",
        "        filters=base_depth,\n",
        "        kernel_size=5,\n",
        "        strides=1,\n",
        "        padding=\"same\",\n",
        "        activation=tf.nn.leaky_relu,\n",
        "    ),\n",
        "    tf.keras.layers.Conv2DTranspose(\n",
        "        filters=base_depth,\n",
        "        kernel_size=5,\n",
        "        strides=2,\n",
        "        padding=\"same\",\n",
        "        activation=tf.nn.leaky_relu,\n",
        "    ),\n",
        "    tf.keras.layers.Conv2DTranspose(\n",
        "        filters=base_depth,\n",
        "        kernel_size=5,\n",
        "        strides=1,\n",
        "        padding=\"same\",\n",
        "        activation=tf.nn.leaky_relu,\n",
        "    ),\n",
        "    tf.keras.layers.Conv2D(\n",
        "        filters=1,\n",
        "        kernel_size=5,\n",
        "        strides=1,\n",
        "        padding=\"same\",\n",
        "        activation=None,\n",
        "    ),\n",
        "    tf.keras.layers.Flatten(),\n",
        "    tfp.layers.IndependentBernoulli(\n",
        "        input_shape,\n",
        "        tfp.distributions.Bernoulli.logits\n",
        "    )\n",
        "])"
      ],
      "execution_count": 88,
      "outputs": []
    },
    {
      "cell_type": "code",
      "metadata": {
        "id": "m_GXnb12614Q"
      },
      "source": [
        "vae = tf.keras.Model(inputs=encoder.inputs, outputs=decoder(encoder.outputs[0]))"
      ],
      "execution_count": 89,
      "outputs": []
    },
    {
      "cell_type": "code",
      "metadata": {
        "id": "pCx-cnl8Cvgv"
      },
      "source": [
        "# Train the model (with variational inference)\n",
        "neg_log_likelihood = lambda x, rv_x: -rv_x.log_prob(x)\n",
        "\n",
        "vae.compile(optimizer=tf.optimizers.Adam(1.0e-3), loss=neg_log_likelihood)\n"
      ],
      "execution_count": 91,
      "outputs": []
    },
    {
      "cell_type": "code",
      "metadata": {
        "id": "p9UfgzRzC-xT",
        "outputId": "50e02d9c-155d-4863-f20c-ae7f7574bb3e",
        "colab": {
          "base_uri": "https://localhost:8080/",
          "height": 225,
          "referenced_widgets": [
            "c7cbd78539124afaa48006ed6ae59ee5",
            "771b3cc1723a49e3b30cab5685541b11",
            "c5dc3f056f7345eb8508db0a6117a45a",
            "8676f65aeaa84b90aa7ade027c57c871",
            "6441340ce25642679600d24fe126d435",
            "8d52557d3dbb4ec2976fdf5efdc654b0",
            "20a488ae8f8b442c8375adba67117371",
            "4af174d88ce943d2847739da4cbf92a0"
          ]
        }
      },
      "source": [
        "import tensorflow_datasets as tfds\n",
        "\n",
        "datasets, datasets_info = tfds.load(name='mnist',\n",
        "                                    with_info=True,\n",
        "                                    as_supervised=False)\n",
        "\n",
        "def _preprocess(sample):\n",
        "  image = tf.cast(sample['image'], tf.float32) / 255.  # Scale to unit interval.\n",
        "  image = image < tf.random.uniform(tf.shape(image))   # Randomly binarize.\n",
        "  return image, image\n",
        "\n",
        "train_dataset = (datasets['train']\n",
        "                 .map(_preprocess)\n",
        "                 .batch(256)\n",
        "                 .prefetch(tf.data.experimental.AUTOTUNE)\n",
        "                 .shuffle(int(10e3)))\n",
        "eval_dataset = (datasets['test']\n",
        "                .map(_preprocess)\n",
        "                .batch(256)\n",
        "                .prefetch(tf.data.experimental.AUTOTUNE))\n",
        "\n",
        "\n"
      ],
      "execution_count": 93,
      "outputs": [
        {
          "output_type": "stream",
          "text": [
            "\u001b[1mDownloading and preparing dataset mnist/3.0.1 (download: 11.06 MiB, generated: 21.00 MiB, total: 32.06 MiB) to /root/tensorflow_datasets/mnist/3.0.1...\u001b[0m\n"
          ],
          "name": "stdout"
        },
        {
          "output_type": "stream",
          "text": [
            "WARNING:absl:Dataset mnist is hosted on GCS. It will automatically be downloaded to your\n",
            "local data directory. If you'd instead prefer to read directly from our public\n",
            "GCS bucket (recommended if you're running on GCP), you can instead pass\n",
            "`try_gcs=True` to `tfds.load` or set `data_dir=gs://tfds-data/datasets`.\n",
            "\n"
          ],
          "name": "stderr"
        },
        {
          "output_type": "display_data",
          "data": {
            "application/vnd.jupyter.widget-view+json": {
              "model_id": "c7cbd78539124afaa48006ed6ae59ee5",
              "version_minor": 0,
              "version_major": 2
            },
            "text/plain": [
              "HBox(children=(FloatProgress(value=0.0, description='Dl Completed...', max=4.0, style=ProgressStyle(descriptio…"
            ]
          },
          "metadata": {
            "tags": []
          }
        },
        {
          "output_type": "stream",
          "text": [
            "\n",
            "\n",
            "\u001b[1mDataset mnist downloaded and prepared to /root/tensorflow_datasets/mnist/3.0.1. Subsequent calls will reuse this data.\u001b[0m\n"
          ],
          "name": "stdout"
        }
      ]
    },
    {
      "cell_type": "code",
      "metadata": {
        "id": "qDkdAZ2DEdph",
        "outputId": "69dd935f-bd7a-4ba4-a6dd-451a081fcd8a",
        "colab": {
          "base_uri": "https://localhost:8080/"
        }
      },
      "source": [
        "datasets_info.features[\"image\"].shape"
      ],
      "execution_count": 94,
      "outputs": [
        {
          "output_type": "execute_result",
          "data": {
            "text/plain": [
              "(28, 28, 1)"
            ]
          },
          "metadata": {
            "tags": []
          },
          "execution_count": 94
        }
      ]
    },
    {
      "cell_type": "code",
      "metadata": {
        "id": "vDq940_pEoWs",
        "outputId": "96ca32d4-9f5c-4d99-d4d9-63ae99ec05e1",
        "colab": {
          "base_uri": "https://localhost:8080/"
        }
      },
      "source": [
        "\n",
        "_ = vae.fit(train_dataset,\n",
        "            epochs=15,\n",
        "            validation_data=eval_dataset)\n"
      ],
      "execution_count": 95,
      "outputs": [
        {
          "output_type": "stream",
          "text": [
            "Epoch 1/15\n",
            "235/235 [==============================] - 20s 36ms/step - loss: 339.9972 - val_loss: 169.9743\n",
            "Epoch 2/15\n",
            "235/235 [==============================] - 10s 32ms/step - loss: 161.7478 - val_loss: 146.7233\n",
            "Epoch 3/15\n",
            "235/235 [==============================] - 10s 32ms/step - loss: 144.6414 - val_loss: 138.4157\n",
            "Epoch 4/15\n",
            "235/235 [==============================] - 10s 32ms/step - loss: 137.1652 - val_loss: 133.1993\n",
            "Epoch 5/15\n",
            "235/235 [==============================] - 10s 32ms/step - loss: 132.9518 - val_loss: 130.6818\n",
            "Epoch 6/15\n",
            "235/235 [==============================] - 10s 32ms/step - loss: 129.9687 - val_loss: 127.0028\n",
            "Epoch 7/15\n",
            "235/235 [==============================] - 10s 32ms/step - loss: 126.6287 - val_loss: 125.3016\n",
            "Epoch 8/15\n",
            "235/235 [==============================] - 10s 32ms/step - loss: 124.8317 - val_loss: 123.2653\n",
            "Epoch 9/15\n",
            "235/235 [==============================] - 10s 32ms/step - loss: 123.2490 - val_loss: 121.9037\n",
            "Epoch 10/15\n",
            "235/235 [==============================] - 10s 32ms/step - loss: 122.6909 - val_loss: 121.5082\n",
            "Epoch 11/15\n",
            "235/235 [==============================] - 10s 32ms/step - loss: 121.5257 - val_loss: 120.6305\n",
            "Epoch 12/15\n",
            "235/235 [==============================] - 10s 32ms/step - loss: 120.7819 - val_loss: 119.7956\n",
            "Epoch 13/15\n",
            "235/235 [==============================] - 10s 32ms/step - loss: 120.1992 - val_loss: 119.5394\n",
            "Epoch 14/15\n",
            "235/235 [==============================] - 10s 32ms/step - loss: 119.4592 - val_loss: 118.5771\n",
            "Epoch 15/15\n",
            "235/235 [==============================] - 10s 32ms/step - loss: 119.0379 - val_loss: 118.0063\n"
          ],
          "name": "stdout"
        }
      ]
    },
    {
      "cell_type": "code",
      "metadata": {
        "id": "OqFolQ1fJVfr"
      },
      "source": [
        "def display_imgs(x, y=None):\n",
        "  if not isinstance(x, (np.ndarray, np.generic)):\n",
        "    x = np.array(x)\n",
        "  plt.ioff()\n",
        "  n = x.shape[0]\n",
        "  fig, axs = plt.subplots(1, n, figsize=(n, 1))\n",
        "  if y is not None:\n",
        "    fig.suptitle(np.argmax(y, axis=1))\n",
        "  for i in range(n):\n",
        "    axs.flat[i].imshow(x[i].squeeze(), interpolation='none', cmap='gray')\n",
        "    axs.flat[i].axis('off')\n",
        "  plt.show()\n",
        "  plt.close()\n",
        "  plt.ion()\n"
      ],
      "execution_count": 132,
      "outputs": []
    },
    {
      "cell_type": "code",
      "metadata": {
        "id": "bN7TBBHfErTQ"
      },
      "source": [
        "img = next(iter(train_dataset))[0][:10]"
      ],
      "execution_count": 135,
      "outputs": []
    },
    {
      "cell_type": "code",
      "metadata": {
        "id": "2-smbOGBFj8K",
        "outputId": "f39a08af-25e2-422e-cf40-6e585290bc44",
        "colab": {
          "base_uri": "https://localhost:8080/",
          "height": 95
        }
      },
      "source": [
        "print(\"True image\")\n",
        "display_imgs(img)"
      ],
      "execution_count": 136,
      "outputs": [
        {
          "output_type": "stream",
          "text": [
            "True image\n"
          ],
          "name": "stdout"
        },
        {
          "output_type": "display_data",
          "data": {
            "image/png": "[encoded data removed]",
            "text/plain": [
              "<Figure size 720x72 with 10 Axes>"
            ]
          },
          "metadata": {
            "tags": [],
            "needs_background": "light"
          }
        }
      ]
    },
    {
      "cell_type": "code",
      "metadata": {
        "id": "r75TM29bF5e3"
      },
      "source": [
        "re_encoded_img_dist = vae(img)"
      ],
      "execution_count": 137,
      "outputs": []
    },
    {
      "cell_type": "code",
      "metadata": {
        "id": "xqpkn7kAGHQl",
        "outputId": "fe92a4de-1725-4adf-bb15-af9b626ab0c0",
        "colab": {
          "base_uri": "https://localhost:8080/",
          "height": 78
        }
      },
      "source": [
        "display_imgs(re_encoded_img_dist.sample())"
      ],
      "execution_count": 138,
      "outputs": [
        {
          "output_type": "display_data",
          "data": {
            "image/png": "[encoded data removed]",
            "text/plain": [
              "<Figure size 720x72 with 10 Axes>"
            ]
          },
          "metadata": {
            "tags": [],
            "needs_background": "light"
          }
        }
      ]
    },
    {
      "cell_type": "code",
      "metadata": {
        "id": "U4wbZdAqGZu_",
        "outputId": "edcc3d1e-40b7-4d48-bde3-8c9542fe8fd1",
        "colab": {
          "base_uri": "https://localhost:8080/",
          "height": 78
        }
      },
      "source": [
        "display_imgs(re_encoded_img_dist.mean())"
      ],
      "execution_count": 140,
      "outputs": [
        {
          "output_type": "display_data",
          "data": {
            "image/png": "[encoded data removed]",
            "text/plain": [
              "<Figure size 720x72 with 10 Axes>"
            ]
          },
          "metadata": {
            "tags": [],
            "needs_background": "light"
          }
        }
      ]
    },
    {
      "cell_type": "code",
      "metadata": {
        "id": "CC6dVkH1HQ_D",
        "outputId": "b36aeccc-0433-41ad-ef14-f6771e82bb4f",
        "colab": {
          "base_uri": "https://localhost:8080/",
          "height": 78
        }
      },
      "source": [
        "display_imgs(re_encoded_img_dist.mode())"
      ],
      "execution_count": 139,
      "outputs": [
        {
          "output_type": "display_data",
          "data": {
            "image/png": "[encoded data removed]",
            "text/plain": [
              "<Figure size 720x72 with 10 Axes>"
            ]
          },
          "metadata": {
            "tags": [],
            "needs_background": "light"
          }
        }
      ]
    },
    {
      "cell_type": "code",
      "metadata": {
        "id": "hJAP-hleJD-u",
        "outputId": "c8ce5a93-4aba-445d-d41f-fad1f4c68e89",
        "colab": {
          "base_uri": "https://localhost:8080/"
        }
      },
      "source": [
        "# Generate new samples\n",
        "z = prior.sample(10)\n",
        "z"
      ],
      "execution_count": 141,
      "outputs": [
        {
          "output_type": "execute_result",
          "data": {
            "text/plain": [
              "<tf.Tensor: shape=(10, 16), dtype=float32, numpy=\n",
              "array([[-5.11918545e-01,  2.38636300e-01, -3.68483841e-01,\n",
              "        -1.92138517e+00,  8.16529155e-01, -1.05571938e+00,\n",
              "         2.37051725e-01, -4.82073873e-01, -1.58135191e-01,\n",
              "        -1.25898218e+00,  8.96905243e-01,  1.29426312e+00,\n",
              "        -7.14863122e-01,  2.56427526e-01, -4.92116302e-01,\n",
              "        -2.42810976e-02],\n",
              "       [ 7.77179062e-01, -5.42823136e-01, -1.17425871e+00,\n",
              "         5.09026423e-02,  2.10804701e-01, -1.97151840e+00,\n",
              "        -5.71465539e-03, -6.54206157e-01,  8.92045319e-01,\n",
              "        -9.88766789e-01,  1.02725327e-01,  5.90835750e-01,\n",
              "         1.79323339e+00, -1.14591825e+00, -4.85127062e-01,\n",
              "        -1.11413574e+00],\n",
              "       [-7.13919401e-01, -5.12303650e-01,  1.29846662e-01,\n",
              "        -2.92243689e-01,  1.42712712e-01, -1.49346840e+00,\n",
              "         8.51890147e-01, -5.15852749e-01, -9.65678170e-02,\n",
              "         8.11934233e-01, -2.23061308e-01,  3.65157664e-01,\n",
              "         1.89724788e-01,  7.05180705e-01,  1.90718126e+00,\n",
              "        -6.80515587e-01],\n",
              "       [ 5.18967323e-02,  1.56201375e+00, -3.10703367e-01,\n",
              "         2.81698078e-01,  3.14162016e-01, -5.12471139e-01,\n",
              "        -3.48615181e-03, -2.21458524e-01,  2.53643423e-01,\n",
              "         3.72690797e-01, -1.95632017e+00, -1.98642403e-01,\n",
              "         6.24566793e-01,  5.14810860e-01,  8.90504599e-01,\n",
              "         1.91733554e-01],\n",
              "       [-5.24785995e-01,  1.57373548e+00, -7.19374493e-02,\n",
              "         8.49191368e-01,  2.42438093e-01,  6.72041416e-01,\n",
              "        -2.63533015e-02,  4.93945509e-01,  2.58973539e-01,\n",
              "         1.08020568e+00,  9.85304117e-01,  1.11670554e+00,\n",
              "        -3.12815619e+00,  9.07453537e-01,  4.35707122e-01,\n",
              "        -5.02989411e-01],\n",
              "       [-6.09786436e-02, -1.00164425e+00,  1.46356165e-01,\n",
              "        -4.16684985e-01,  1.23573864e+00, -4.31044817e+00,\n",
              "         1.39901149e+00, -1.49051979e-01,  3.41341794e-01,\n",
              "        -1.92752862e+00,  3.71491104e-01,  8.66317078e-02,\n",
              "        -4.41067010e-01, -1.95236191e-01, -1.04670107e+00,\n",
              "         1.18016824e-01],\n",
              "       [ 1.23714931e-01,  2.26598191e+00,  6.81987628e-02,\n",
              "         2.76184648e-01,  1.25674978e-01, -7.69952893e-01,\n",
              "        -1.59144199e+00, -5.29550135e-01, -5.39088666e-01,\n",
              "         9.82329845e-01, -3.64814073e-01, -2.67623007e-01,\n",
              "        -3.16677988e-02,  2.03829312e+00,  3.53657097e-01,\n",
              "        -1.88383311e-01],\n",
              "       [-4.93158698e-01,  1.50954318e+00, -1.58095849e+00,\n",
              "        -1.28431273e+00,  2.41832122e-01,  2.31286240e+00,\n",
              "         1.19421408e-01,  7.67384410e-01,  9.70633388e-01,\n",
              "        -3.00610155e-01, -1.29290497e+00, -9.90248740e-01,\n",
              "        -6.69259191e-01, -1.87305057e+00,  8.64432693e-01,\n",
              "        -9.31311846e-01],\n",
              "       [-1.02520752e+00, -8.36832225e-01,  1.10732305e+00,\n",
              "         5.03728628e-01,  3.21510702e-01,  2.29250813e+00,\n",
              "         4.74809051e-01,  1.72912931e+00,  1.02457178e+00,\n",
              "         2.34971642e-02,  2.02936840e+00,  6.00325763e-02,\n",
              "         1.78407609e+00,  7.55512536e-01, -5.31951487e-01,\n",
              "         3.13212067e-01],\n",
              "       [ 1.43909693e+00,  1.57060218e+00,  8.40939820e-01,\n",
              "        -3.53381813e-01, -9.82813716e-01,  1.01067565e-01,\n",
              "         1.32455751e-01, -5.49380422e-01,  1.62716115e+00,\n",
              "         4.53968287e-01, -8.57216835e-01, -6.75959289e-01,\n",
              "        -3.36952776e-01,  1.92962572e-01,  1.21522450e+00,\n",
              "         4.19538170e-01]], dtype=float32)>"
            ]
          },
          "metadata": {
            "tags": []
          },
          "execution_count": 141
        }
      ]
    },
    {
      "cell_type": "code",
      "metadata": {
        "id": "E55il3AAJ_ah"
      },
      "source": [
        "x_tilde = decoder(z)"
      ],
      "execution_count": 143,
      "outputs": []
    },
    {
      "cell_type": "code",
      "metadata": {
        "id": "Amr92KcwKDA9",
        "outputId": "3459d43f-9940-44ae-df1a-36aee3c38e15",
        "colab": {
          "base_uri": "https://localhost:8080/",
          "height": 78
        }
      },
      "source": [
        "display_imgs(x_tilde.sample())"
      ],
      "execution_count": 144,
      "outputs": [
        {
          "output_type": "display_data",
          "data": {
            "image/png": "[encoded data removed]",
            "text/plain": [
              "<Figure size 720x72 with 10 Axes>"
            ]
          },
          "metadata": {
            "tags": [],
            "needs_background": "light"
          }
        }
      ]
    },
    {
      "cell_type": "code",
      "metadata": {
        "id": "Ki7PsOCGKJbJ",
        "outputId": "be8f6085-7882-45d3-c611-b470e9fad569",
        "colab": {
          "base_uri": "https://localhost:8080/",
          "height": 78
        }
      },
      "source": [
        "display_imgs(x_tilde.mean())"
      ],
      "execution_count": 145,
      "outputs": [
        {
          "output_type": "display_data",
          "data": {
            "image/png": "[encoded data removed]",
            "text/plain": [
              "<Figure size 720x72 with 10 Axes>"
            ]
          },
          "metadata": {
            "tags": [],
            "needs_background": "light"
          }
        }
      ]
    },
    {
      "cell_type": "code",
      "metadata": {
        "id": "yiE0gtwYKKtE",
        "outputId": "e7ee2d81-1cf5-42db-9beb-3c46a12de13d",
        "colab": {
          "base_uri": "https://localhost:8080/",
          "height": 78
        }
      },
      "source": [
        "display_imgs(x_tilde.mode())"
      ],
      "execution_count": 146,
      "outputs": [
        {
          "output_type": "display_data",
          "data": {
            "image/png": "[encoded data removed]",
            "text/plain": [
              "<Figure size 720x72 with 10 Axes>"
            ]
          },
          "metadata": {
            "tags": [],
            "needs_background": "light"
          }
        }
      ]
    },
    {
      "cell_type": "code",
      "metadata": {
        "id": "ccBTzHIAKL4G"
      },
      "source": [
        ""
      ],
      "execution_count": null,
      "outputs": []
    }
  ]
}
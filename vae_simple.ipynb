{
  "nbformat": 4,
  "nbformat_minor": 0,
  "metadata": {
    "kernelspec": {
      "name": "python3",
      "display_name": "Python 3.6.12 64-bit ('tf-keras-gpu': conda)",
      "metadata": {
        "interpreter": {
          "hash": "2762fd0ccae7a6827a0de0868563b3d499c815e35640ddddc3d2dc7e9a34dcb9"
        }
      }
    },
    "language_info": {
      "codemirror_mode": {
        "name": "ipython",
        "version": 3
      },
      "file_extension": ".py",
      "mimetype": "text/x-python",
      "name": "python",
      "nbconvert_exporter": "python",
      "pygments_lexer": "ipython3",
      "version": "3.6.12-final"
    },
    "colab": {
      "name": "notebook_autoencoder.ipynb",
      "provenance": []
    },
    "accelerator": "GPU"
  },
  "cells": [
    {
      "cell_type": "code",
      "metadata": {
        "id": "2QywJts6x6D3"
      },
      "source": [
        "import numpy as np \n",
        "import tensorflow as tf \n",
        "from tensorflow import keras\n",
        "import tensorflow_probability as tfp\n"
      ],
      "execution_count": 4,
      "outputs": []
    },
    {
      "cell_type": "code",
      "metadata": {
        "id": "YrbvNuEB2k7Y",
        "outputId": "2b6c9718-22d3-459c-f178-76816c4d7279",
        "colab": {
          "base_uri": "https://localhost:8080/"
        }
      },
      "source": [
        "device_name = tf.test.gpu_device_name()\r\n",
        "if device_name != '/device:GPU:0':\r\n",
        "  raise SystemError('GPU device not found')\r\n",
        "print('Found GPU at: {}'.format(device_name))"
      ],
      "execution_count": 5,
      "outputs": [
        {
          "output_type": "stream",
          "text": [
            "Found GPU at: /device:GPU:0\n"
          ],
          "name": "stdout"
        }
      ]
    },
    {
      "cell_type": "code",
      "metadata": {
        "id": "RTw-kqDI2w2h",
        "outputId": "5742f241-975d-4c3f-fe66-4142eadf94e5",
        "colab": {
          "base_uri": "https://localhost:8080/"
        }
      },
      "source": [
        "from google.colab import drive\r\n",
        "drive.mount('/content/gdrive')"
      ],
      "execution_count": 7,
      "outputs": [
        {
          "output_type": "stream",
          "text": [
            "Drive already mounted at /content/gdrive; to attempt to forcibly remount, call drive.mount(\"/content/gdrive\", force_remount=True).\n"
          ],
          "name": "stdout"
        }
      ]
    },
    {
      "cell_type": "code",
      "metadata": {
        "id": "XOMPnwfA-yDP"
      },
      "source": [
        "tfd = tfp.distributions\r\n",
        "tfpl = tfp.layers\r\n",
        "tfk = tf.keras\r\n",
        "tfkl = tf.keras.layers"
      ],
      "execution_count": 8,
      "outputs": []
    },
    {
      "cell_type": "code",
      "metadata": {
        "id": "3CkK07H7_WCU"
      },
      "source": [
        "train_size = 60000\r\n",
        "batch_size = 100\r\n",
        "test_size = 10000\r\n",
        "input_shape = (28, 28, 1)"
      ],
      "execution_count": 10,
      "outputs": []
    },
    {
      "cell_type": "markdown",
      "metadata": {
        "id": "HJExWOeFx6EC"
      },
      "source": [
        "# MNIST dataset"
      ]
    },
    {
      "cell_type": "code",
      "metadata": {
        "id": "kI1FSXVBx6ED",
        "outputId": "8ec13f85-f880-4171-f227-950f3d941a08",
        "colab": {
          "base_uri": "https://localhost:8080/"
        }
      },
      "source": [
        "mnist = tfk.datasets.mnist\n",
        "\n",
        "(x_train, y_train), (x_test, y_test) = mnist.load_data()\n",
        "x_train = x_train.astype(np.float32) / 255\n",
        "x_test = x_test.astype(np.float32) / 255"
      ],
      "execution_count": 9,
      "outputs": [
        {
          "output_type": "stream",
          "text": [
            "Downloading data from https://storage.googleapis.com/tensorflow/tf-keras-datasets/mnist.npz\n",
            "11493376/11490434 [==============================] - 0s 0us/step\n"
          ],
          "name": "stdout"
        }
      ]
    },
    {
      "cell_type": "code",
      "metadata": {
        "id": "cZrifDoK_9pV",
        "outputId": "0598c21b-3512-40de-8fbd-a5ad9fb495d1",
        "colab": {
          "base_uri": "https://localhost:8080/"
        }
      },
      "source": [
        "x_test.shape"
      ],
      "execution_count": 13,
      "outputs": [
        {
          "output_type": "execute_result",
          "data": {
            "text/plain": [
              "(10000, 28, 28)"
            ]
          },
          "metadata": {
            "tags": []
          },
          "execution_count": 13
        }
      ]
    },
    {
      "cell_type": "code",
      "metadata": {
        "id": "5wRY0Q1o_O79"
      },
      "source": [
        "train_dataset = (tf.data.Dataset.from_tensor_slices(x_train)\r\n",
        "                 .shuffle(train_size).batch(batch_size))\r\n",
        "test_dataset = (tf.data.Dataset.from_tensor_slices(x_test)\r\n",
        "                .shuffle(test_size).batch(batch_size))"
      ],
      "execution_count": 11,
      "outputs": []
    },
    {
      "cell_type": "markdown",
      "metadata": {
        "id": "1eJjaF8Dx6ED"
      },
      "source": [
        "# Variational Autoencoder"
      ]
    },
    {
      "cell_type": "code",
      "metadata": {
        "id": "VvqgoF8Ax6ED"
      },
      "source": [
        "K = keras.backend\n",
        "\n",
        "class Sampling(keras.layers.Layer):\n",
        "    def call(self, inputs):\n",
        "        mean, log_var = inputs\n",
        "        return K.random_normal(tf.shape(log_var)) * K.exp(log_var / 2) + mean"
      ],
      "execution_count": 12,
      "outputs": []
    },
    {
      "cell_type": "code",
      "metadata": {
        "id": "1DbJ2v_mFAOX"
      },
      "source": [
        "def Encoder(latent_dim):\r\n",
        "\r\n",
        "    inputs = tfkl.Input(shape=[28, 28])\r\n",
        "    z = tfkl.Flatten()(inputs)\r\n",
        "    z = tfkl.Dense(300, activation=\"relu\", kernel_initializer=\"he_normal\")(z)\r\n",
        "    z = tfkl.Dense(300, activation=\"relu\")(z)\r\n",
        "    codings_mean = tfkl.Dense(latent_dim)(z)\r\n",
        "    codings_log_var = tfkl.Dense(latent_dim)(z)\r\n",
        "    codings = Sampling()([codings_mean, codings_log_var])\r\n",
        "    variational_encoder = tfk.models.Model(inputs=[inputs], outputs=[codings])\r\n",
        "\r\n",
        "    return codings_mean, codings_log_var, variational_encoder\r\n",
        "\r\n",
        "def Decoder(latent_dim):\r\n",
        "\r\n",
        "    decoder_inputs = keras.layers.Input(shape=[latent_dim])\r\n",
        "    x = keras.layers.Dense(300, activation=\"relu\")(decoder_inputs)\r\n",
        "    x = keras.layers.Dense(300, activation=\"relu\")(x)\r\n",
        "    x = keras.layers.Dense(28 * 28, activation=\"sigmoid\")(x)\r\n",
        "    outputs = keras.layers.Reshape([28, 28])(x)\r\n",
        "    variational_decoder = keras.models.Model(inputs=[decoder_inputs], outputs=[outputs])\r\n",
        "\r\n",
        "    return variational_decoder\r\n",
        "\r\n",
        "class VAE(tfk.Model):\r\n",
        "    def __init__(\r\n",
        "        self,\r\n",
        "        encoder,\r\n",
        "        decoder,\r\n",
        "        kl_weight, \r\n",
        "        lr\r\n",
        "    ):\r\n",
        "        super(VAe, self).__init__()\r\n",
        "        self.encoder = encoder\r\n",
        "        self.decoder = decoder\r\n",
        "        self.kl_weight = kl_weight\r\n",
        "        self.lr = lr \r\n",
        "\r\n",
        "    def compile(\r\n",
        "        self,\r\n",
        "        optimizer,\r\n",
        "        loss_elbo_fn\r\n",
        "    ):\r\n",
        "        super(VAE, self).compile()\r\n",
        "        self.loss_elbo_fn = loss_elbo_fn \r\n",
        "        self.optimizer = optimizer\r\n",
        "\r\n",
        "    def train_step(self, x):\r\n",
        "        with tf.GradientTape(persistent=True) as tape:\r\n",
        "            mean , logvar, inferred = self.encoder(x)\r\n",
        "            reconstructed = self.decoder(inferred)\r\n",
        "\r\n",
        "            kl_divergence = -0.5 * K.sum(1 + logvar - K.exp(logvar) - K.square(mean), axis=-1)\r\n",
        "            kl_divergence = kl_weight * K.mean(kl_divergence) / 784.\r\n",
        "\r\n",
        "            \r\n"
      ],
      "execution_count": 82,
      "outputs": []
    },
    {
      "cell_type": "code",
      "metadata": {
        "id": "pFli0PsRGb6f"
      },
      "source": [
        "latent_dim = 40\r\n",
        "kl_weight = 3\r\n",
        "inputs = keras.layers.Input(shape=[28, 28])\r\n",
        "z = keras.layers.Flatten()(inputs)\r\n",
        "z = keras.layers.Dense(300, activation=\"relu\", kernel_initializer=\"he_normal\")(z)\r\n",
        "z = keras.layers.Dense(300, activation=\"relu\")(z)\r\n",
        "codings_mean = keras.layers.Dense(latent_dim)(z)\r\n",
        "codings_log_var = keras.layers.Dense(latent_dim)(z)\r\n",
        "codings = Sampling()([codings_mean, codings_log_var])\r\n",
        "variational_encoder = keras.models.Model(inputs=[inputs], outputs=[codings])\r\n",
        "\r\n",
        "decoder_inputs = keras.layers.Input(shape=[latent_dim])\r\n",
        "x = keras.layers.Dense(300, activation=\"relu\")(decoder_inputs)\r\n",
        "x = keras.layers.Dense(300, activation=\"relu\")(x)\r\n",
        "x = keras.layers.Dense(28 * 28, activation=\"sigmoid\")(x)\r\n",
        "outputs = keras.layers.Reshape([28, 28])(x)\r\n",
        "variational_decoder = keras.models.Model(inputs=[decoder_inputs], outputs=[outputs])\r\n",
        "\r\n",
        "codings = variational_encoder(inputs)\r\n",
        "reconstructions = variational_decoder(codings)\r\n",
        "model = keras.models.Model(inputs=[inputs], outputs=[reconstructions])\r\n",
        "\r\n",
        "kl_divergence = -0.5 * K.sum(1 + codings_log_var - K.exp(codings_log_var) - K.square(codings_mean), axis=-1)\r\n",
        "model.add_loss(kl_weight * K.mean(kl_divergence) / 784.)"
      ],
      "execution_count": 79,
      "outputs": []
    },
    {
      "cell_type": "code",
      "metadata": {
        "id": "i5_TcRenx6EE",
        "outputId": "93fc3909-a7ec-431e-bc7e-3f45ec022567",
        "colab": {
          "base_uri": "https://localhost:8080/"
        }
      },
      "source": [
        "model.compile(loss=\"binary_crossentropy\", optimizer=\"adam\", metrics=['accuracy'])\n",
        "with tf.device('/device:GPU:0'):\n",
        "    history = model.fit(x_train, x_train, epochs=100, batch_size=100)"
      ],
      "execution_count": 81,
      "outputs": [
        {
          "output_type": "stream",
          "text": [
            "Epoch 1/100\n",
            "600/600 [==============================] - 3s 3ms/step - loss: 0.1806 - accuracy: 0.2145\n",
            "Epoch 2/100\n",
            "600/600 [==============================] - 2s 3ms/step - loss: 0.1784 - accuracy: 0.2166\n",
            "Epoch 3/100\n",
            "600/600 [==============================] - 2s 3ms/step - loss: 0.1767 - accuracy: 0.2209\n",
            "Epoch 4/100\n",
            "600/600 [==============================] - 2s 3ms/step - loss: 0.1757 - accuracy: 0.2226\n",
            "Epoch 5/100\n",
            "600/600 [==============================] - 2s 3ms/step - loss: 0.1747 - accuracy: 0.2257\n",
            "Epoch 6/100\n",
            "600/600 [==============================] - 2s 3ms/step - loss: 0.1742 - accuracy: 0.2272\n",
            "Epoch 7/100\n",
            "600/600 [==============================] - 2s 3ms/step - loss: 0.1732 - accuracy: 0.2299\n",
            "Epoch 8/100\n",
            "600/600 [==============================] - 2s 3ms/step - loss: 0.1729 - accuracy: 0.2304\n",
            "Epoch 9/100\n",
            "600/600 [==============================] - 2s 3ms/step - loss: 0.1722 - accuracy: 0.2325\n",
            "Epoch 10/100\n",
            "600/600 [==============================] - 2s 3ms/step - loss: 0.1718 - accuracy: 0.2332\n",
            "Epoch 11/100\n",
            "600/600 [==============================] - 2s 4ms/step - loss: 0.1717 - accuracy: 0.2329\n",
            "Epoch 12/100\n",
            "600/600 [==============================] - 2s 4ms/step - loss: 0.1707 - accuracy: 0.2359\n",
            "Epoch 13/100\n",
            "600/600 [==============================] - 2s 4ms/step - loss: 0.1709 - accuracy: 0.2354\n",
            "Epoch 14/100\n",
            "600/600 [==============================] - 2s 3ms/step - loss: 0.1704 - accuracy: 0.2357\n",
            "Epoch 15/100\n",
            "600/600 [==============================] - 2s 4ms/step - loss: 0.1702 - accuracy: 0.2358\n",
            "Epoch 16/100\n",
            "600/600 [==============================] - 2s 3ms/step - loss: 0.1703 - accuracy: 0.2373\n",
            "Epoch 17/100\n",
            "600/600 [==============================] - 2s 3ms/step - loss: 0.1698 - accuracy: 0.2374\n",
            "Epoch 18/100\n",
            "600/600 [==============================] - 2s 3ms/step - loss: 0.1699 - accuracy: 0.2375\n",
            "Epoch 19/100\n",
            "600/600 [==============================] - 2s 3ms/step - loss: 0.1695 - accuracy: 0.2368\n",
            "Epoch 20/100\n",
            "600/600 [==============================] - 2s 3ms/step - loss: 0.1688 - accuracy: 0.2386\n",
            "Epoch 21/100\n",
            "600/600 [==============================] - 2s 3ms/step - loss: 0.1690 - accuracy: 0.2403\n",
            "Epoch 22/100\n",
            "600/600 [==============================] - 2s 3ms/step - loss: 0.1691 - accuracy: 0.2394\n",
            "Epoch 23/100\n",
            "600/600 [==============================] - 2s 3ms/step - loss: 0.1688 - accuracy: 0.2395\n",
            "Epoch 24/100\n",
            "600/600 [==============================] - 2s 3ms/step - loss: 0.1684 - accuracy: 0.2414\n",
            "Epoch 25/100\n",
            "600/600 [==============================] - 2s 3ms/step - loss: 0.1686 - accuracy: 0.2400\n",
            "Epoch 26/100\n",
            "600/600 [==============================] - 2s 3ms/step - loss: 0.1682 - accuracy: 0.2426\n",
            "Epoch 27/100\n",
            "600/600 [==============================] - 2s 3ms/step - loss: 0.1681 - accuracy: 0.2404\n",
            "Epoch 28/100\n",
            "600/600 [==============================] - 2s 3ms/step - loss: 0.1679 - accuracy: 0.2423\n",
            "Epoch 29/100\n",
            "600/600 [==============================] - 2s 3ms/step - loss: 0.1686 - accuracy: 0.2408\n",
            "Epoch 30/100\n",
            "600/600 [==============================] - 2s 3ms/step - loss: 0.1677 - accuracy: 0.2426\n",
            "Epoch 31/100\n",
            "600/600 [==============================] - 2s 3ms/step - loss: 0.1681 - accuracy: 0.2412\n",
            "Epoch 32/100\n",
            "600/600 [==============================] - 2s 3ms/step - loss: 0.1678 - accuracy: 0.2415\n",
            "Epoch 33/100\n",
            "600/600 [==============================] - 2s 3ms/step - loss: 0.1678 - accuracy: 0.2419\n",
            "Epoch 34/100\n",
            "600/600 [==============================] - 2s 3ms/step - loss: 0.1673 - accuracy: 0.2420\n",
            "Epoch 35/100\n",
            "600/600 [==============================] - 2s 3ms/step - loss: 0.1676 - accuracy: 0.2423\n",
            "Epoch 36/100\n",
            "600/600 [==============================] - 2s 3ms/step - loss: 0.1676 - accuracy: 0.2423\n",
            "Epoch 37/100\n",
            "600/600 [==============================] - 2s 3ms/step - loss: 0.1672 - accuracy: 0.2421\n",
            "Epoch 38/100\n",
            "600/600 [==============================] - 2s 3ms/step - loss: 0.1674 - accuracy: 0.2418\n",
            "Epoch 39/100\n",
            "600/600 [==============================] - 2s 3ms/step - loss: 0.1671 - accuracy: 0.2438\n",
            "Epoch 40/100\n",
            "600/600 [==============================] - 2s 3ms/step - loss: 0.1670 - accuracy: 0.2444\n",
            "Epoch 41/100\n",
            "600/600 [==============================] - 2s 3ms/step - loss: 0.1669 - accuracy: 0.2441\n",
            "Epoch 42/100\n",
            "600/600 [==============================] - 2s 3ms/step - loss: 0.1672 - accuracy: 0.2443\n",
            "Epoch 43/100\n",
            "600/600 [==============================] - 2s 3ms/step - loss: 0.1667 - accuracy: 0.2461\n",
            "Epoch 44/100\n",
            "600/600 [==============================] - 2s 3ms/step - loss: 0.1670 - accuracy: 0.2457\n",
            "Epoch 45/100\n",
            "600/600 [==============================] - 2s 3ms/step - loss: 0.1667 - accuracy: 0.2449\n",
            "Epoch 46/100\n",
            "600/600 [==============================] - 2s 3ms/step - loss: 0.1665 - accuracy: 0.2454\n",
            "Epoch 47/100\n",
            "600/600 [==============================] - 2s 3ms/step - loss: 0.1664 - accuracy: 0.2456\n",
            "Epoch 48/100\n",
            "600/600 [==============================] - 2s 3ms/step - loss: 0.1665 - accuracy: 0.2460\n",
            "Epoch 49/100\n",
            "600/600 [==============================] - 2s 3ms/step - loss: 0.1666 - accuracy: 0.2459\n",
            "Epoch 50/100\n",
            "600/600 [==============================] - 2s 3ms/step - loss: 0.1666 - accuracy: 0.2459\n",
            "Epoch 51/100\n",
            "600/600 [==============================] - 2s 3ms/step - loss: 0.1663 - accuracy: 0.2455\n",
            "Epoch 52/100\n",
            "600/600 [==============================] - 2s 3ms/step - loss: 0.1661 - accuracy: 0.2465\n",
            "Epoch 53/100\n",
            "600/600 [==============================] - 2s 3ms/step - loss: 0.1663 - accuracy: 0.2460\n",
            "Epoch 54/100\n",
            "600/600 [==============================] - 2s 3ms/step - loss: 0.1663 - accuracy: 0.2457\n",
            "Epoch 55/100\n",
            "600/600 [==============================] - 2s 3ms/step - loss: 0.1661 - accuracy: 0.2466\n",
            "Epoch 56/100\n",
            "600/600 [==============================] - 2s 3ms/step - loss: 0.1662 - accuracy: 0.2465\n",
            "Epoch 57/100\n",
            "600/600 [==============================] - 2s 3ms/step - loss: 0.1660 - accuracy: 0.2460\n",
            "Epoch 58/100\n",
            "600/600 [==============================] - 2s 3ms/step - loss: 0.1662 - accuracy: 0.2462\n",
            "Epoch 59/100\n",
            "600/600 [==============================] - 2s 3ms/step - loss: 0.1664 - accuracy: 0.2461\n",
            "Epoch 60/100\n",
            "600/600 [==============================] - 2s 3ms/step - loss: 0.1658 - accuracy: 0.2479\n",
            "Epoch 61/100\n",
            "600/600 [==============================] - 2s 3ms/step - loss: 0.1659 - accuracy: 0.2470\n",
            "Epoch 62/100\n",
            "600/600 [==============================] - 2s 3ms/step - loss: 0.1660 - accuracy: 0.2474\n",
            "Epoch 63/100\n",
            "600/600 [==============================] - 2s 3ms/step - loss: 0.1660 - accuracy: 0.2473\n",
            "Epoch 64/100\n",
            "600/600 [==============================] - 2s 3ms/step - loss: 0.1654 - accuracy: 0.2474\n",
            "Epoch 65/100\n",
            "600/600 [==============================] - 2s 3ms/step - loss: 0.1657 - accuracy: 0.2482\n",
            "Epoch 66/100\n",
            "600/600 [==============================] - 2s 3ms/step - loss: 0.1659 - accuracy: 0.2486\n",
            "Epoch 67/100\n",
            "600/600 [==============================] - 2s 3ms/step - loss: 0.1657 - accuracy: 0.2471\n",
            "Epoch 68/100\n",
            "600/600 [==============================] - 2s 3ms/step - loss: 0.1657 - accuracy: 0.2479\n",
            "Epoch 69/100\n",
            "600/600 [==============================] - 2s 3ms/step - loss: 0.1658 - accuracy: 0.2482\n",
            "Epoch 70/100\n",
            "600/600 [==============================] - 2s 3ms/step - loss: 0.1653 - accuracy: 0.2489\n",
            "Epoch 71/100\n",
            "600/600 [==============================] - 2s 4ms/step - loss: 0.1655 - accuracy: 0.2484\n",
            "Epoch 72/100\n",
            "600/600 [==============================] - 2s 4ms/step - loss: 0.1653 - accuracy: 0.2489\n",
            "Epoch 73/100\n",
            "600/600 [==============================] - 2s 3ms/step - loss: 0.1653 - accuracy: 0.2495\n",
            "Epoch 74/100\n",
            "600/600 [==============================] - 2s 3ms/step - loss: 0.1655 - accuracy: 0.2465\n",
            "Epoch 75/100\n",
            "600/600 [==============================] - 2s 3ms/step - loss: 0.1652 - accuracy: 0.2469\n",
            "Epoch 76/100\n",
            "600/600 [==============================] - 2s 3ms/step - loss: 0.1651 - accuracy: 0.2471\n",
            "Epoch 77/100\n",
            "600/600 [==============================] - 2s 3ms/step - loss: 0.1655 - accuracy: 0.2467\n",
            "Epoch 78/100\n",
            "600/600 [==============================] - 2s 3ms/step - loss: 0.1653 - accuracy: 0.2475\n",
            "Epoch 79/100\n",
            "600/600 [==============================] - 2s 3ms/step - loss: 0.1654 - accuracy: 0.2463\n",
            "Epoch 80/100\n",
            "600/600 [==============================] - 2s 3ms/step - loss: 0.1652 - accuracy: 0.2476\n",
            "Epoch 81/100\n",
            "600/600 [==============================] - 2s 3ms/step - loss: 0.1649 - accuracy: 0.2463\n",
            "Epoch 82/100\n",
            "600/600 [==============================] - 2s 3ms/step - loss: 0.1650 - accuracy: 0.2481\n",
            "Epoch 83/100\n",
            "600/600 [==============================] - 2s 3ms/step - loss: 0.1651 - accuracy: 0.2487\n",
            "Epoch 84/100\n",
            "600/600 [==============================] - 2s 3ms/step - loss: 0.1652 - accuracy: 0.2478\n",
            "Epoch 85/100\n",
            "600/600 [==============================] - 2s 3ms/step - loss: 0.1649 - accuracy: 0.2483\n",
            "Epoch 86/100\n",
            "600/600 [==============================] - 2s 3ms/step - loss: 0.1654 - accuracy: 0.2491\n",
            "Epoch 87/100\n",
            "600/600 [==============================] - 2s 3ms/step - loss: 0.1651 - accuracy: 0.2481\n",
            "Epoch 88/100\n",
            "600/600 [==============================] - 2s 3ms/step - loss: 0.1651 - accuracy: 0.2484\n",
            "Epoch 89/100\n",
            "600/600 [==============================] - 2s 3ms/step - loss: 0.1647 - accuracy: 0.2491\n",
            "Epoch 90/100\n",
            "600/600 [==============================] - 2s 3ms/step - loss: 0.1651 - accuracy: 0.2480\n",
            "Epoch 91/100\n",
            "600/600 [==============================] - 2s 3ms/step - loss: 0.1650 - accuracy: 0.2491\n",
            "Epoch 92/100\n",
            "600/600 [==============================] - 2s 3ms/step - loss: 0.1647 - accuracy: 0.2490\n",
            "Epoch 93/100\n",
            "600/600 [==============================] - 2s 3ms/step - loss: 0.1648 - accuracy: 0.2496\n",
            "Epoch 94/100\n",
            "600/600 [==============================] - 2s 3ms/step - loss: 0.1645 - accuracy: 0.2490\n",
            "Epoch 95/100\n",
            "600/600 [==============================] - 2s 3ms/step - loss: 0.1647 - accuracy: 0.2487\n",
            "Epoch 96/100\n",
            "600/600 [==============================] - 2s 3ms/step - loss: 0.1648 - accuracy: 0.2497\n",
            "Epoch 97/100\n",
            "600/600 [==============================] - 2s 3ms/step - loss: 0.1648 - accuracy: 0.2494\n",
            "Epoch 98/100\n",
            "600/600 [==============================] - 2s 3ms/step - loss: 0.1650 - accuracy: 0.2494\n",
            "Epoch 99/100\n",
            "600/600 [==============================] - 2s 3ms/step - loss: 0.1652 - accuracy: 0.2489\n",
            "Epoch 100/100\n",
            "600/600 [==============================] - 2s 3ms/step - loss: 0.1646 - accuracy: 0.2499\n"
          ],
          "name": "stdout"
        }
      ]
    },
    {
      "cell_type": "code",
      "metadata": {
        "id": "nNNVitKBIz_0",
        "outputId": "a3d01bef-8fef-4a45-a7bf-8586b0a29387",
        "colab": {
          "base_uri": "https://localhost:8080/"
        }
      },
      "source": [
        "model.summary()"
      ],
      "execution_count": 83,
      "outputs": [
        {
          "output_type": "stream",
          "text": [
            "Model: \"model_41\"\n",
            "__________________________________________________________________________________________________\n",
            "Layer (type)                    Output Shape         Param #     Connected to                     \n",
            "==================================================================================================\n",
            "input_28 (InputLayer)           [(None, 28, 28)]     0                                            \n",
            "__________________________________________________________________________________________________\n",
            "model_39 (Functional)           (None, 40)           349880      input_28[0][0]                   \n",
            "__________________________________________________________________________________________________\n",
            "model_40 (Functional)           (None, 28, 28)       338584      model_39[0][0]                   \n",
            "__________________________________________________________________________________________________\n",
            "flatten_14 (Flatten)            (None, 784)          0           input_28[0][0]                   \n",
            "__________________________________________________________________________________________________\n",
            "dense_95 (Dense)                (None, 300)          235500      flatten_14[0][0]                 \n",
            "__________________________________________________________________________________________________\n",
            "dense_96 (Dense)                (None, 300)          90300       dense_95[0][0]                   \n",
            "__________________________________________________________________________________________________\n",
            "dense_98 (Dense)                (None, 40)           12040       dense_96[0][0]                   \n",
            "__________________________________________________________________________________________________\n",
            "tf.__operators__.add_13 (TFOpLa (None, 40)           0           dense_98[0][0]                   \n",
            "__________________________________________________________________________________________________\n",
            "tf.math.exp_13 (TFOpLambda)     (None, 40)           0           dense_98[0][0]                   \n",
            "__________________________________________________________________________________________________\n",
            "dense_97 (Dense)                (None, 40)           12040       dense_96[0][0]                   \n",
            "__________________________________________________________________________________________________\n",
            "tf.math.subtract_26 (TFOpLambda (None, 40)           0           tf.__operators__.add_13[0][0]    \n",
            "                                                                 tf.math.exp_13[0][0]             \n",
            "__________________________________________________________________________________________________\n",
            "tf.math.square_13 (TFOpLambda)  (None, 40)           0           dense_97[0][0]                   \n",
            "__________________________________________________________________________________________________\n",
            "tf.math.subtract_27 (TFOpLambda (None, 40)           0           tf.math.subtract_26[0][0]        \n",
            "                                                                 tf.math.square_13[0][0]          \n",
            "__________________________________________________________________________________________________\n",
            "tf.math.reduce_sum_13 (TFOpLamb (None,)              0           tf.math.subtract_27[0][0]        \n",
            "__________________________________________________________________________________________________\n",
            "tf.math.multiply_22 (TFOpLambda (None,)              0           tf.math.reduce_sum_13[0][0]      \n",
            "__________________________________________________________________________________________________\n",
            "tf.math.reduce_mean_13 (TFOpLam ()                   0           tf.math.multiply_22[0][0]        \n",
            "__________________________________________________________________________________________________\n",
            "tf.math.multiply_23 (TFOpLambda ()                   0           tf.math.reduce_mean_13[0][0]     \n",
            "__________________________________________________________________________________________________\n",
            "tf.math.truediv_10 (TFOpLambda) ()                   0           tf.math.multiply_23[0][0]        \n",
            "__________________________________________________________________________________________________\n",
            "add_loss_13 (AddLoss)           ()                   0           tf.math.truediv_10[0][0]         \n",
            "==================================================================================================\n",
            "Total params: 688,464\n",
            "Trainable params: 688,464\n",
            "Non-trainable params: 0\n",
            "__________________________________________________________________________________________________\n"
          ],
          "name": "stdout"
        }
      ]
    },
    {
      "cell_type": "code",
      "metadata": {
        "id": "t4w6Tr31x6EF",
        "outputId": "4a438bc8-6eac-45ea-a690-0c5a9a6e4f94",
        "colab": {
          "base_uri": "https://localhost:8080/",
          "height": 229
        }
      },
      "source": [
        "# To plot pretty figures\n",
        "%matplotlib inline\n",
        "import matplotlib as mpl\n",
        "import matplotlib.pyplot as plt\n",
        "mpl.rc('axes', labelsize=14)\n",
        "mpl.rc('xtick', labelsize=12)\n",
        "mpl.rc('ytick', labelsize=12)\n",
        "\n",
        "def plot_image(image):\n",
        "    plt.imshow(image, cmap=\"binary\")\n",
        "    plt.axis(\"off\")\n",
        "    \n",
        "def show_reconstructions(model, images=x_test, n_images=5):\n",
        "    reconstructions = model.predict(images[:n_images])\n",
        "    fig = plt.figure(figsize=(n_images * 1.5, 3))\n",
        "    for image_index in range(n_images):\n",
        "        plt.subplot(2, n_images, 1 + image_index)\n",
        "        plot_image(images[image_index])\n",
        "        plt.subplot(2, n_images, 1 + n_images + image_index)\n",
        "        plot_image(reconstructions[image_index])\n",
        "        \n",
        "show_reconstructions(model)"
      ],
      "execution_count": 84,
      "outputs": [
        {
          "output_type": "stream",
          "text": [
            "WARNING:tensorflow:11 out of the last 11 calls to <function Model.make_predict_function.<locals>.predict_function at 0x7f1820285950> triggered tf.function retracing. Tracing is expensive and the excessive number of tracings could be due to (1) creating @tf.function repeatedly in a loop, (2) passing tensors with different shapes, (3) passing Python objects instead of tensors. For (1), please define your @tf.function outside of the loop. For (2), @tf.function has experimental_relax_shapes=True option that relaxes argument shapes that can avoid unnecessary retracing. For (3), please refer to https://www.tensorflow.org/guide/function#controlling_retracing and https://www.tensorflow.org/api_docs/python/tf/function for  more details.\n"
          ],
          "name": "stdout"
        },
        {
          "output_type": "display_data",
          "data": {
            "image/png": "[encoded data removed]",
            "text/plain": [
              "<Figure size 540x216 with 10 Axes>"
            ]
          },
          "metadata": {
            "tags": [],
            "needs_background": "light"
          }
        }
      ]
    },
    {
      "cell_type": "code",
      "metadata": {
        "colab": {
          "base_uri": "https://localhost:8080/"
        },
        "id": "o5RZ8IYjx6EF",
        "outputId": "372ae90e-5868-4114-c20c-60f0120677c1"
      },
      "source": [
        "print(\"test-colab-2\")"
      ],
      "execution_count": null,
      "outputs": [
        {
          "output_type": "stream",
          "text": [
            "test-colab\n"
          ],
          "name": "stdout"
        }
      ]
    }
  ]
}